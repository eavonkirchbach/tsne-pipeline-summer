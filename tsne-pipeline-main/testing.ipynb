{
 "cells": [
  {
   "cell_type": "code",
   "execution_count": 1,
   "id": "ddbcb338-a66d-4e4d-828e-66d93c1908de",
   "metadata": {},
   "outputs": [],
   "source": [
    "# Install necessary packages\n",
    "#!pip install pytrials transformers sklearn matplotlib\n",
    "# erika's notes:\n",
    "# use scikit-learn instead of sklearn\n",
    "# need to pip install plotly"
   ]
  },
  {
   "cell_type": "code",
   "execution_count": 2,
   "id": "b1ad0b93-7a81-41fd-ac47-5e09f0f2ab56",
   "metadata": {},
   "outputs": [],
   "source": [
    "# Import necessary libraries\n",
    "from pytrials.client import ClinicalTrials\n",
    "from transformers import AutoTokenizer, AutoModel\n",
    "import torch\n",
    "import numpy as np\n",
    "from sklearn.manifold import TSNE\n",
    "import matplotlib.pyplot as plt"
   ]
  },
  {
   "cell_type": "code",
   "execution_count": 3,
   "id": "bcdf968e-294a-47ca-83ab-39f54410602f",
   "metadata": {},
   "outputs": [
    {
     "name": "stdout",
     "output_type": "stream",
     "text": [
      "{'csv': ['NCT Number', 'Study Title', 'Study URL', 'Acronym', 'Study Status', 'Brief Summary', 'Study Results', 'Conditions', 'Interventions', 'Primary Outcome Measures', 'Secondary Outcome Measures', 'Other Outcome Measures', 'Sponsor', 'Collaborators', 'Sex', 'Age', 'Phases', 'Enrollment', 'Funder Type', 'Study Type', 'Study Design', 'Other IDs', 'Start Date', 'Primary Completion Date', 'Completion Date', 'First Posted', 'Results First Posted', 'Last Update Posted', 'Locations', 'Study Documents'], 'json': ['NCTId', 'BriefTitle', 'NCTId', 'Acronym', 'OverallStatus', 'BriefSummary', 'HasResults', 'Condition', 'InterventionType', 'InterventionName', 'PrimaryOutcomeMeasure', 'PrimaryOutcomeDescription', 'PrimaryOutcomeTimeFrame', 'SecondaryOutcomeMeasure', 'SecondaryOutcomeDescription', 'SecondaryOutcomeTimeFrame', 'OtherOutcomeMeasure', 'OtherOutcomeDescription', 'OtherOutcomeTimeFrame', 'LeadSponsorName', 'CollaboratorName', 'Sex', 'MinimumAge', 'MaximumAge', 'StdAge', 'Phase', 'EnrollmentCount', 'LeadSponsorClass', 'StudyType', 'DesignAllocation', 'DesignInterventionModel', 'DesignMasking', 'DesignWhoMasked', 'DesignPrimaryPurpose', 'OrgStudyId', 'SecondaryId', 'StartDate', 'PrimaryCompletionDate', 'CompletionDate', 'StudyFirstPostDate', 'ResultsFirstSubmitDate', 'LastUpdatePostDate', 'LocationFacility', 'LocationCity', 'LocationState', 'LocationZip', 'LocationCountry', 'NCTId', 'LargeDocLabel', 'LargeDocFilename']}\n"
     ]
    }
   ],
   "source": [
    "# Initialize ClinicalTrials client\n",
    "ct = ClinicalTrials()\n",
    "\n",
    "# Check valid fields\n",
    "#print(\"Valid fields:\", ct.study_fields[\"json\"])\n",
    "print(ct.study_fields)"
   ]
  },
  {
   "cell_type": "code",
   "execution_count": 4,
   "id": "52201dfe-5f51-4897-88ba-c3590a47323e",
   "metadata": {},
   "outputs": [],
   "source": [
    "# Define a function to fetch clinical trial abstracts for given conditions\n",
    "def fetch_abstracts(conditions, max_results=1000):\n",
    "    abstracts = []\n",
    "    for condition in conditions:\n",
    "        results = ct.get_study_fields(\n",
    "            search_expr=condition, \n",
    "            fields=[\n",
    "                    #\"Study Title\",\n",
    "                    #\"Study Type\",\n",
    "                    \"Brief Summary\"\n",
    "            ],  # Add NCTId to see if BriefSummary is causing issues\n",
    "            max_studies=max_results # Ensure we don't request more than 1000 studies\n",
    "        )\n",
    "        abstracts.append(results)\n",
    "\n",
    "            \n",
    "    return abstracts"
   ]
  },
  {
   "cell_type": "code",
   "execution_count": 5,
   "id": "69e8d34d-806d-4c8e-8b3d-ffa10696f5ba",
   "metadata": {},
   "outputs": [],
   "source": [
    "# Fetch abstracts for a few popular clinical trial areas\n",
    "conditions = [\"Cancer+Oncology+Tumor+Neoplasm+Carcinoma+Malignancy\", # Cancer Keyword Collection\n",
    "              \"Duchenne Muscular Dystrophy+DMD+Muscle+Genetic+Muscular+Degenerative\", # DMD Keyword Collection\n",
    "             \"Coronavirus+COVID+SARS-CoV-2+Pandemic+Virus+Infection\" # COVID Keyword Collection\n",
    "             ]\n",
    "\n",
    "abstracts = fetch_abstracts(conditions,max_results=1000)"
   ]
  },
  {
   "cell_type": "code",
   "execution_count": 6,
   "id": "fc21ebad-9d35-4d65-b2a7-62335a774a6c",
   "metadata": {},
   "outputs": [
    {
     "name": "stdout",
     "output_type": "stream",
     "text": [
      "<class 'list'>\n",
      "3\n"
     ]
    }
   ],
   "source": [
    "#print(abstracts)\n",
    "print(type(abstracts))\n",
    "print(len(abstracts))\n",
    "#print(abstracts)"
   ]
  },
  {
   "cell_type": "code",
   "execution_count": 7,
   "id": "a5b758d3-9f1a-4229-a561-8fff8e6020ff",
   "metadata": {},
   "outputs": [],
   "source": [
    "abstracts_0 = abstracts[0]\n",
    "abstracts_1 = abstracts[1]\n",
    "abstracts_2 = abstracts[2]"
   ]
  },
  {
   "cell_type": "code",
   "execution_count": 8,
   "id": "4a2c08b9-8bb9-4817-8050-b90f9c357b74",
   "metadata": {},
   "outputs": [
    {
     "name": "stdout",
     "output_type": "stream",
     "text": [
      "1001\n",
      "14\n",
      "1001\n"
     ]
    }
   ],
   "source": [
    "print(len(abstracts_0))\n",
    "print(len(abstracts_1))\n",
    "print(len(abstracts_2))"
   ]
  },
  {
   "cell_type": "code",
   "execution_count": 9,
   "id": "150b8138-11ba-4bf1-88d9-6c524066d1ec",
   "metadata": {},
   "outputs": [],
   "source": [
    "ab0 = abstracts_0[1:]\n",
    "ab1 = abstracts_1[1:]\n",
    "ab2 = abstracts_2[1:]"
   ]
  },
  {
   "cell_type": "code",
   "execution_count": 10,
   "id": "87abd88c-276a-4556-bc2f-a6f4ede4572d",
   "metadata": {},
   "outputs": [],
   "source": [
    "full_abs = ab0 + ab1 + ab2\n",
    "flattened_abs = [text for sublist in full_abs for text in sublist]"
   ]
  },
  {
   "cell_type": "code",
   "execution_count": 11,
   "id": "fff474e7-db22-47d6-863a-d6e41c26eff0",
   "metadata": {},
   "outputs": [
    {
     "data": {
      "text/plain": [
       "30"
      ]
     },
     "execution_count": 11,
     "metadata": {},
     "output_type": "execute_result"
    }
   ],
   "source": [
    "partial_abs = ab0[0:10] + ab1[0:10] + ab2[0:10]\n",
    "flattened_partial_abs = [text for sublist in partial_abs for text in sublist]\n",
    "len(flattened_partial_abs)"
   ]
  },
  {
   "cell_type": "code",
   "execution_count": 12,
   "id": "9cf93ccc-923c-449a-b30f-dcd8ab7beafb",
   "metadata": {},
   "outputs": [],
   "source": [
    "# Load PubMedBERT model and tokenizer\n",
    "tokenizer = AutoTokenizer.from_pretrained(\"microsoft/BiomedNLP-PubMedBERT-base-uncased-abstract-fulltext\")\n",
    "model = AutoModel.from_pretrained(\"microsoft/BiomedNLP-PubMedBERT-base-uncased-abstract-fulltext\")"
   ]
  },
  {
   "cell_type": "code",
   "execution_count": 13,
   "id": "9ff7e7be-736b-46d0-8835-ed4f6a02c13d",
   "metadata": {},
   "outputs": [],
   "source": [
    "# Function to get embeddings from PubMedBERT\n",
    "def get_embeddings(texts, tokenizer, model):\n",
    "    inputs = tokenizer(texts, return_tensors=\"pt\", padding=True, truncation=True, max_length=512)\n",
    "    with torch.no_grad():\n",
    "        outputs = model(**inputs)\n",
    "    embeddings = outputs.last_hidden_state.mean(dim=1).numpy()\n",
    "    return embeddings"
   ]
  },
  {
   "cell_type": "code",
   "execution_count": 14,
   "id": "ab50e39c-d159-46be-b145-ef2d36f2c950",
   "metadata": {},
   "outputs": [],
   "source": [
    "from concurrent.futures import ThreadPoolExecutor, as_completed"
   ]
  },
  {
   "cell_type": "code",
   "execution_count": 15,
   "id": "641ebdc7-9c0e-489d-877b-13ccd109ff53",
   "metadata": {},
   "outputs": [],
   "source": [
    "# Ensure that the device is set to GPU if available, otherwise fallback to CPU\n",
    "device = torch.device(\"cuda\" if torch.cuda.is_available() else \"cpu\")\n",
    "\n",
    "# Function to process a single batch\n",
    "def process_batch(batch_texts, tokenizer, model, device):\n",
    "    inputs = tokenizer(batch_texts, return_tensors=\"pt\", padding=True, truncation=True, max_length=512).to(device)\n",
    "    with torch.no_grad():\n",
    "        outputs = model(**inputs)\n",
    "    batch_embeddings = outputs.last_hidden_state.mean(dim=1).cpu().numpy()\n",
    "    return batch_embeddings\n",
    "\n",
    "# Function to get embeddings from PubMedBERT in parallel\n",
    "def get_embeddings_parallel(texts, tokenizer, model, batch_size=8, num_workers=4):\n",
    "    # Split texts into batches\n",
    "    batches = [texts[i:i + batch_size] for i in range(0, len(texts), batch_size)]\n",
    "    \n",
    "    embeddings = []\n",
    "    with ThreadPoolExecutor(max_workers=num_workers) as executor:\n",
    "        # Submit tasks to the executor\n",
    "        future_to_batch = {executor.submit(process_batch, batch, tokenizer, model, device): batch for batch in batches}\n",
    "        \n",
    "        for future in as_completed(future_to_batch):\n",
    "            batch_embeddings = future.result()\n",
    "            embeddings.append(batch_embeddings)\n",
    "    \n",
    "    # Combine the embeddings from all batches\n",
    "    embeddings = np.vstack(embeddings)\n",
    "    return embeddings\n"
   ]
  },
  {
   "cell_type": "code",
   "execution_count": 16,
   "id": "d11b7451-4ee2-48d1-bcd2-28e3b73d3978",
   "metadata": {},
   "outputs": [
    {
     "data": {
      "text/plain": [
       "30"
      ]
     },
     "execution_count": 16,
     "metadata": {},
     "output_type": "execute_result"
    }
   ],
   "source": [
    "len(flattened_partial_abs)"
   ]
  },
  {
   "cell_type": "code",
   "execution_count": 17,
   "id": "bfe17edf-bf0a-4c07-9844-b81ea582554c",
   "metadata": {},
   "outputs": [],
   "source": [
    "# Get embeddings for the abstracts\n",
    "embeddings = get_embeddings_parallel(flattened_partial_abs, tokenizer, model, batch_size=8, num_workers=4)"
   ]
  },
  {
   "cell_type": "code",
   "execution_count": 18,
   "id": "bbcb2783-b89d-4303-989e-996561a95988",
   "metadata": {},
   "outputs": [],
   "source": [
    "# Adjust perplexity to be less than the number of samples\n",
    "perplexity_value = min(embeddings.shape[0] - 1, 30)  # Use the minimum of number of samples - 1 or 30\n",
    "\n",
    "# Use t-SNE to reduce dimensionality to 2D\n",
    "tsne = TSNE(n_components=2, random_state=42, perplexity=perplexity_value)\n",
    "embeddings_2d = tsne.fit_transform(embeddings)"
   ]
  },
  {
   "cell_type": "code",
   "execution_count": 19,
   "id": "aa94e570-6723-47b8-aac8-3be07c587bb9",
   "metadata": {},
   "outputs": [
    {
     "data": {
      "image/png": "[encoded data removed]",
      "text/plain": [
       "<Figure size 1000x800 with 1 Axes>"
      ]
     },
     "metadata": {},
     "output_type": "display_data"
    }
   ],
   "source": [
    "# Plot the 2D embeddings\n",
    "plt.figure(figsize=(10, 8))\n",
    "plt.scatter(embeddings_2d[:, 0], embeddings_2d[:, 1], alpha=0.5)\n",
    "plt.title(\"2D Visualization of Clinical Trial Abstracts\")\n",
    "plt.xlabel(\"t-SNE Dimension 1\")\n",
    "plt.ylabel(\"t-SNE Dimension 2\")\n",
    "plt.show()"
   ]
  },
  {
   "cell_type": "code",
   "execution_count": 20,
   "id": "a0bd9af8-891d-48bb-a784-ee3d1ca5d367",
   "metadata": {},
   "outputs": [],
   "source": [
    "import plotly.express as px\n",
    "import plotly.io as pio\n",
    "from sklearn.manifold import TSNE\n",
    "import numpy as np"
   ]
  },
  {
   "cell_type": "code",
   "execution_count": 21,
   "id": "7f2b48db-6e88-4c6c-b22b-03e6e213b66a",
   "metadata": {},
   "outputs": [],
   "source": [
    "# Create labels for the points\n",
    "num_samples = embeddings.shape[0]\n",
    "labels = ['Cancer'] * (num_samples // 3) + ['Duchenne Muscular Dystrophy'] * (num_samples // 3) + ['COVID related'] * (num_samples - 2 * (num_samples // 3))"
   ]
  },
  {
   "cell_type": "code",
   "execution_count": 22,
   "id": "54e49f48-ff74-430b-8d08-3d68afabc1dc",
   "metadata": {},
   "outputs": [
    {
     "data": {
      "text/plain": [
       "30"
      ]
     },
     "execution_count": 22,
     "metadata": {},
     "output_type": "execute_result"
    }
   ],
   "source": [
    "len(labels)"
   ]
  },
  {
   "cell_type": "code",
   "execution_count": 23,
   "id": "41051e02-a814-4c82-8241-9335d925054c",
   "metadata": {},
   "outputs": [],
   "source": [
    "# Create a DataFrame for Plotly\n",
    "import pandas as pd\n",
    "df = pd.DataFrame({\n",
    "    't-SNE Dimension 1': embeddings_2d[:, 0],\n",
    "    't-SNE Dimension 2': embeddings_2d[:, 1],\n",
    "    'Label': labels\n",
    "})"
   ]
  },
  {
   "cell_type": "code",
   "execution_count": 24,
   "id": "1f0d0176-a2e0-4473-86b7-c02ce977ad74",
   "metadata": {},
   "outputs": [
    {
     "data": {
      "application/vnd.plotly.v1+json": {
       "config": {
        "plotlyServerURL": "https://plot.ly"
       },
       "data": [
        {
         "hovertemplate": "Label=Cancer<br>t-SNE Dimension 1=%{x}<br>t-SNE Dimension 2=%{y}<extra></extra>",
         "legendgroup": "Cancer",
         "marker": {
          "color": "#636efa",
          "symbol": "circle"
         },
         "mode": "markers",
         "name": "Cancer",
         "orientation": "v",
         "showlegend": true,
         "type": "scatter",
         "x": [
          -2.064310073852539,
          -2.0949480533599854,
          -2.096675395965576,
          -2.0621461868286133,
          -2.058434247970581,
          -2.0859289169311523,
          -2.055983781814575,
          -2.0754027366638184,
          -2.1109299659729004,
          -2.0694797039031982
         ],
         "xaxis": "x",
         "y": [
          0.3261755108833313,
          0.34182828664779663,
          0.2586638629436493,
          0.2919103801250458,
          0.2988363206386566,
          0.26000118255615234,
          0.3175109624862671,
          0.27174362540245056,
          0.2559525668621063,
          0.3332132399082184
         ],
         "yaxis": "y"
        },
        {
         "hovertemplate": "Label=Duchenne Muscular Dystrophy<br>t-SNE Dimension 1=%{x}<br>t-SNE Dimension 2=%{y}<extra></extra>",
         "legendgroup": "Duchenne Muscular Dystrophy",
         "marker": {
          "color": "#EF553B",
          "symbol": "circle"
         },
         "mode": "markers",
         "name": "Duchenne Muscular Dystrophy",
         "orientation": "v",
         "showlegend": true,
         "type": "scatter",
         "x": [
          -2.0944931507110596,
          -2.1043243408203125,
          -2.107034683227539,
          -2.0953125953674316,
          -2.1057262420654297,
          -2.0962936878204346,
          -2.0656535625457764,
          -2.070909261703491,
          -2.0633394718170166,
          -2.062263250350952
         ],
         "xaxis": "x",
         "y": [
          0.3493441939353943,
          0.35210612416267395,
          0.33475568890571594,
          0.34295985102653503,
          0.3299466073513031,
          0.35656413435935974,
          0.33437439799308777,
          0.27513617277145386,
          0.29620257019996643,
          0.2896086275577545
         ],
         "yaxis": "y"
        },
        {
         "hovertemplate": "Label=COVID related<br>t-SNE Dimension 1=%{x}<br>t-SNE Dimension 2=%{y}<extra></extra>",
         "legendgroup": "COVID related",
         "marker": {
          "color": "#00cc96",
          "symbol": "circle"
         },
         "mode": "markers",
         "name": "COVID related",
         "orientation": "v",
         "showlegend": true,
         "type": "scatter",
         "x": [
          -2.098478317260742,
          -2.058849573135376,
          -2.055304527282715,
          -2.0777971744537354,
          -2.085800886154175,
          -2.074636459350586,
          -2.072503089904785,
          -2.1143999099731445,
          -2.0676612854003906,
          -2.084066390991211
         ],
         "xaxis": "x",
         "y": [
          0.25834792852401733,
          0.32413360476493835,
          0.3265873193740845,
          0.347051203250885,
          0.2579352557659149,
          0.3472561836242676,
          0.34527063369750977,
          0.34969133138656616,
          0.34777554869651794,
          0.355630099773407
         ],
         "yaxis": "y"
        }
       ],
       "layout": {
        "autosize": true,
        "font": {
         "size": 14
        },
        "height": 600,
        "legend": {
         "orientation": "h",
         "title": {
          "text": "Category"
         },
         "tracegroupgap": 0,
         "x": 1,
         "xanchor": "right",
         "y": 1.02,
         "yanchor": "bottom"
        },
        "paper_bgcolor": "rgba(0,0,0,0)",
        "plot_bgcolor": "rgba(0,0,0,0)",
        "template": {
         "data": {
          "bar": [
           {
            "error_x": {
             "color": "#2a3f5f"
            },
            "error_y": {
             "color": "#2a3f5f"
            },
            "marker": {
             "line": {
              "color": "#E5ECF6",
              "width": 0.5
             },
             "pattern": {
              "fillmode": "overlay",
              "size": 10,
              "solidity": 0.2
             }
            },
            "type": "bar"
           }
          ],
          "barpolar": [
           {
            "marker": {
             "line": {
              "color": "#E5ECF6",
              "width": 0.5
             },
             "pattern": {
              "fillmode": "overlay",
              "size": 10,
              "solidity": 0.2
             }
            },
            "type": "barpolar"
           }
          ],
          "carpet": [
           {
            "aaxis": {
             "endlinecolor": "#2a3f5f",
             "gridcolor": "white",
             "linecolor": "white",
             "minorgridcolor": "white",
             "startlinecolor": "#2a3f5f"
            },
            "baxis": {
             "endlinecolor": "#2a3f5f",
             "gridcolor": "white",
             "linecolor": "white",
             "minorgridcolor": "white",
             "startlinecolor": "#2a3f5f"
            },
            "type": "carpet"
           }
          ],
          "choropleth": [
           {
            "colorbar": {
             "outlinewidth": 0,
             "ticks": ""
            },
            "type": "choropleth"
           }
          ],
          "contour": [
           {
            "colorbar": {
             "outlinewidth": 0,
             "ticks": ""
            },
            "colorscale": [
             [
              0,
              "#0d0887"
             ],
             [
              0.1111111111111111,
              "#46039f"
             ],
             [
              0.2222222222222222,
              "#7201a8"
             ],
             [
              0.3333333333333333,
              "#9c179e"
             ],
             [
              0.4444444444444444,
              "#bd3786"
             ],
             [
              0.5555555555555556,
              "#d8576b"
             ],
             [
              0.6666666666666666,
              "#ed7953"
             ],
             [
              0.7777777777777778,
              "#fb9f3a"
             ],
             [
              0.8888888888888888,
              "#fdca26"
             ],
             [
              1,
              "#f0f921"
             ]
            ],
            "type": "contour"
           }
          ],
          "contourcarpet": [
           {
            "colorbar": {
             "outlinewidth": 0,
             "ticks": ""
            },
            "type": "contourcarpet"
           }
          ],
          "heatmap": [
           {
            "colorbar": {
             "outlinewidth": 0,
             "ticks": ""
            },
            "colorscale": [
             [
              0,
              "#0d0887"
             ],
             [
              0.1111111111111111,
              "#46039f"
             ],
             [
              0.2222222222222222,
              "#7201a8"
             ],
             [
              0.3333333333333333,
              "#9c179e"
             ],
             [
              0.4444444444444444,
              "#bd3786"
             ],
             [
              0.5555555555555556,
              "#d8576b"
             ],
             [
              0.6666666666666666,
              "#ed7953"
             ],
             [
              0.7777777777777778,
              "#fb9f3a"
             ],
             [
              0.8888888888888888,
              "#fdca26"
             ],
             [
              1,
              "#f0f921"
             ]
            ],
            "type": "heatmap"
           }
          ],
          "heatmapgl": [
           {
            "colorbar": {
             "outlinewidth": 0,
             "ticks": ""
            },
            "colorscale": [
             [
              0,
              "#0d0887"
             ],
             [
              0.1111111111111111,
              "#46039f"
             ],
             [
              0.2222222222222222,
              "#7201a8"
             ],
             [
              0.3333333333333333,
              "#9c179e"
             ],
             [
              0.4444444444444444,
              "#bd3786"
             ],
             [
              0.5555555555555556,
              "#d8576b"
             ],
             [
              0.6666666666666666,
              "#ed7953"
             ],
             [
              0.7777777777777778,
              "#fb9f3a"
             ],
             [
              0.8888888888888888,
              "#fdca26"
             ],
             [
              1,
              "#f0f921"
             ]
            ],
            "type": "heatmapgl"
           }
          ],
          "histogram": [
           {
            "marker": {
             "pattern": {
              "fillmode": "overlay",
              "size": 10,
              "solidity": 0.2
             }
            },
            "type": "histogram"
           }
          ],
          "histogram2d": [
           {
            "colorbar": {
             "outlinewidth": 0,
             "ticks": ""
            },
            "colorscale": [
             [
              0,
              "#0d0887"
             ],
             [
              0.1111111111111111,
              "#46039f"
             ],
             [
              0.2222222222222222,
              "#7201a8"
             ],
             [
              0.3333333333333333,
              "#9c179e"
             ],
             [
              0.4444444444444444,
              "#bd3786"
             ],
             [
              0.5555555555555556,
              "#d8576b"
             ],
             [
              0.6666666666666666,
              "#ed7953"
             ],
             [
              0.7777777777777778,
              "#fb9f3a"
             ],
             [
              0.8888888888888888,
              "#fdca26"
             ],
             [
              1,
              "#f0f921"
             ]
            ],
            "type": "histogram2d"
           }
          ],
          "histogram2dcontour": [
           {
            "colorbar": {
             "outlinewidth": 0,
             "ticks": ""
            },
            "colorscale": [
             [
              0,
              "#0d0887"
             ],
             [
              0.1111111111111111,
              "#46039f"
             ],
             [
              0.2222222222222222,
              "#7201a8"
             ],
             [
              0.3333333333333333,
              "#9c179e"
             ],
             [
              0.4444444444444444,
              "#bd3786"
             ],
             [
              0.5555555555555556,
              "#d8576b"
             ],
             [
              0.6666666666666666,
              "#ed7953"
             ],
             [
              0.7777777777777778,
              "#fb9f3a"
             ],
             [
              0.8888888888888888,
              "#fdca26"
             ],
             [
              1,
              "#f0f921"
             ]
            ],
            "type": "histogram2dcontour"
           }
          ],
          "mesh3d": [
           {
            "colorbar": {
             "outlinewidth": 0,
             "ticks": ""
            },
            "type": "mesh3d"
           }
          ],
          "parcoords": [
           {
            "line": {
             "colorbar": {
              "outlinewidth": 0,
              "ticks": ""
             }
            },
            "type": "parcoords"
           }
          ],
          "pie": [
           {
            "automargin": true,
            "type": "pie"
           }
          ],
          "scatter": [
           {
            "fillpattern": {
             "fillmode": "overlay",
             "size": 10,
             "solidity": 0.2
            },
            "type": "scatter"
           }
          ],
          "scatter3d": [
           {
            "line": {
             "colorbar": {
              "outlinewidth": 0,
              "ticks": ""
             }
            },
            "marker": {
             "colorbar": {
              "outlinewidth": 0,
              "ticks": ""
             }
            },
            "type": "scatter3d"
           }
          ],
          "scattercarpet": [
           {
            "marker": {
             "colorbar": {
              "outlinewidth": 0,
              "ticks": ""
             }
            },
            "type": "scattercarpet"
           }
          ],
          "scattergeo": [
           {
            "marker": {
             "colorbar": {
              "outlinewidth": 0,
              "ticks": ""
             }
            },
            "type": "scattergeo"
           }
          ],
          "scattergl": [
           {
            "marker": {
             "colorbar": {
              "outlinewidth": 0,
              "ticks": ""
             }
            },
            "type": "scattergl"
           }
          ],
          "scattermapbox": [
           {
            "marker": {
             "colorbar": {
              "outlinewidth": 0,
              "ticks": ""
             }
            },
            "type": "scattermapbox"
           }
          ],
          "scatterpolar": [
           {
            "marker": {
             "colorbar": {
              "outlinewidth": 0,
              "ticks": ""
             }
            },
            "type": "scatterpolar"
           }
          ],
          "scatterpolargl": [
           {
            "marker": {
             "colorbar": {
              "outlinewidth": 0,
              "ticks": ""
             }
            },
            "type": "scatterpolargl"
           }
          ],
          "scatterternary": [
           {
            "marker": {
             "colorbar": {
              "outlinewidth": 0,
              "ticks": ""
             }
            },
            "type": "scatterternary"
           }
          ],
          "surface": [
           {
            "colorbar": {
             "outlinewidth": 0,
             "ticks": ""
            },
            "colorscale": [
             [
              0,
              "#0d0887"
             ],
             [
              0.1111111111111111,
              "#46039f"
             ],
             [
              0.2222222222222222,
              "#7201a8"
             ],
             [
              0.3333333333333333,
              "#9c179e"
             ],
             [
              0.4444444444444444,
              "#bd3786"
             ],
             [
              0.5555555555555556,
              "#d8576b"
             ],
             [
              0.6666666666666666,
              "#ed7953"
             ],
             [
              0.7777777777777778,
              "#fb9f3a"
             ],
             [
              0.8888888888888888,
              "#fdca26"
             ],
             [
              1,
              "#f0f921"
             ]
            ],
            "type": "surface"
           }
          ],
          "table": [
           {
            "cells": {
             "fill": {
              "color": "#EBF0F8"
             },
             "line": {
              "color": "white"
             }
            },
            "header": {
             "fill": {
              "color": "#C8D4E3"
             },
             "line": {
              "color": "white"
             }
            },
            "type": "table"
           }
          ]
         },
         "layout": {
          "annotationdefaults": {
           "arrowcolor": "#2a3f5f",
           "arrowhead": 0,
           "arrowwidth": 1
          },
          "autotypenumbers": "strict",
          "coloraxis": {
           "colorbar": {
            "outlinewidth": 0,
            "ticks": ""
           }
          },
          "colorscale": {
           "diverging": [
            [
             0,
             "#8e0152"
            ],
            [
             0.1,
             "#c51b7d"
            ],
            [
             0.2,
             "#de77ae"
            ],
            [
             0.3,
             "#f1b6da"
            ],
            [
             0.4,
             "#fde0ef"
            ],
            [
             0.5,
             "#f7f7f7"
            ],
            [
             0.6,
             "#e6f5d0"
            ],
            [
             0.7,
             "#b8e186"
            ],
            [
             0.8,
             "#7fbc41"
            ],
            [
             0.9,
             "#4d9221"
            ],
            [
             1,
             "#276419"
            ]
           ],
           "sequential": [
            [
             0,
             "#0d0887"
            ],
            [
             0.1111111111111111,
             "#46039f"
            ],
            [
             0.2222222222222222,
             "#7201a8"
            ],
            [
             0.3333333333333333,
             "#9c179e"
            ],
            [
             0.4444444444444444,
             "#bd3786"
            ],
            [
             0.5555555555555556,
             "#d8576b"
            ],
            [
             0.6666666666666666,
             "#ed7953"
            ],
            [
             0.7777777777777778,
             "#fb9f3a"
            ],
            [
             0.8888888888888888,
             "#fdca26"
            ],
            [
             1,
             "#f0f921"
            ]
           ],
           "sequentialminus": [
            [
             0,
             "#0d0887"
            ],
            [
             0.1111111111111111,
             "#46039f"
            ],
            [
             0.2222222222222222,
             "#7201a8"
            ],
            [
             0.3333333333333333,
             "#9c179e"
            ],
            [
             0.4444444444444444,
             "#bd3786"
            ],
            [
             0.5555555555555556,
             "#d8576b"
            ],
            [
             0.6666666666666666,
             "#ed7953"
            ],
            [
             0.7777777777777778,
             "#fb9f3a"
            ],
            [
             0.8888888888888888,
             "#fdca26"
            ],
            [
             1,
             "#f0f921"
            ]
           ]
          },
          "colorway": [
           "#636efa",
           "#EF553B",
           "#00cc96",
           "#ab63fa",
           "#FFA15A",
           "#19d3f3",
           "#FF6692",
           "#B6E880",
           "#FF97FF",
           "#FECB52"
          ],
          "font": {
           "color": "#2a3f5f"
          },
          "geo": {
           "bgcolor": "white",
           "lakecolor": "white",
           "landcolor": "#E5ECF6",
           "showlakes": true,
           "showland": true,
           "subunitcolor": "white"
          },
          "hoverlabel": {
           "align": "left"
          },
          "hovermode": "closest",
          "mapbox": {
           "style": "light"
          },
          "paper_bgcolor": "white",
          "plot_bgcolor": "#E5ECF6",
          "polar": {
           "angularaxis": {
            "gridcolor": "white",
            "linecolor": "white",
            "ticks": ""
           },
           "bgcolor": "#E5ECF6",
           "radialaxis": {
            "gridcolor": "white",
            "linecolor": "white",
            "ticks": ""
           }
          },
          "scene": {
           "xaxis": {
            "backgroundcolor": "#E5ECF6",
            "gridcolor": "white",
            "gridwidth": 2,
            "linecolor": "white",
            "showbackground": true,
            "ticks": "",
            "zerolinecolor": "white"
           },
           "yaxis": {
            "backgroundcolor": "#E5ECF6",
            "gridcolor": "white",
            "gridwidth": 2,
            "linecolor": "white",
            "showbackground": true,
            "ticks": "",
            "zerolinecolor": "white"
           },
           "zaxis": {
            "backgroundcolor": "#E5ECF6",
            "gridcolor": "white",
            "gridwidth": 2,
            "linecolor": "white",
            "showbackground": true,
            "ticks": "",
            "zerolinecolor": "white"
           }
          },
          "shapedefaults": {
           "line": {
            "color": "#2a3f5f"
           }
          },
          "ternary": {
           "aaxis": {
            "gridcolor": "white",
            "linecolor": "white",
            "ticks": ""
           },
           "baxis": {
            "gridcolor": "white",
            "linecolor": "white",
            "ticks": ""
           },
           "bgcolor": "#E5ECF6",
           "caxis": {
            "gridcolor": "white",
            "linecolor": "white",
            "ticks": ""
           }
          },
          "title": {
           "x": 0.05
          },
          "xaxis": {
           "automargin": true,
           "gridcolor": "white",
           "linecolor": "white",
           "ticks": "",
           "title": {
            "standoff": 15
           },
           "zerolinecolor": "white",
           "zerolinewidth": 2
          },
          "yaxis": {
           "automargin": true,
           "gridcolor": "white",
           "linecolor": "white",
           "ticks": "",
           "title": {
            "standoff": 15
           },
           "zerolinecolor": "white",
           "zerolinewidth": 2
          }
         }
        },
        "title": {
         "font": {
          "size": 20
         },
         "text": "2D Visualization of Clinical Trial Abstracts",
         "x": 0.5
        },
        "width": 800,
        "xaxis": {
         "anchor": "y",
         "domain": [
          0,
          1
         ],
         "showticklabels": false,
         "title": {
          "text": ""
         }
        },
        "yaxis": {
         "anchor": "x",
         "domain": [
          0,
          1
         ],
         "showticklabels": false,
         "title": {
          "text": ""
         }
        }
       }
      }
     },
     "metadata": {},
     "output_type": "display_data"
    }
   ],
   "source": [
    "# Create interactive plot with Plotly\n",
    "fig = px.scatter(df, x='t-SNE Dimension 1', y='t-SNE Dimension 2', color='Label', title='2D Visualization of Clinical Trial Abstracts')\n",
    "\n",
    "# Update the layout for better aesthetics and remove axis ticks\n",
    "fig.update_layout(\n",
    "    title_font_size=20,\n",
    "    title_x=0.5,\n",
    "    xaxis_title='',\n",
    "    yaxis_title='',\n",
    "    xaxis=dict(showticklabels=False),\n",
    "    yaxis=dict(showticklabels=False),\n",
    "    font=dict(size=14),\n",
    "    plot_bgcolor='rgba(0,0,0,0)',\n",
    "    paper_bgcolor='rgba(0,0,0,0)',\n",
    "    autosize=True,\n",
    "    width=800,\n",
    "    height=600,\n",
    "    legend=dict(title=\"Category\", orientation=\"h\", yanchor=\"bottom\", y=1.02, xanchor=\"right\", x=1)\n",
    ")\n",
    "\n",
    "# Show the plot\n",
    "fig.show()\n",
    "\n",
    "#pio.write_image(fig, 'tsne_visualization.png', scale=3)"
   ]
  },
  {
   "cell_type": "code",
   "execution_count": null,
   "id": "b1cc1e1f-b7f8-4d50-8d24-f42c8c2d2fdd",
   "metadata": {},
   "outputs": [],
   "source": []
  },
  {
   "cell_type": "code",
   "execution_count": null,
   "id": "af4e7445-4c38-4978-a229-b296b8ed21b6",
   "metadata": {},
   "outputs": [],
   "source": []
  }
 ],
 "metadata": {
  "kernelspec": {
   "display_name": "Python 3 (ipykernel)",
   "language": "python",
   "name": "python3"
  },
  "language_info": {
   "codemirror_mode": {
    "name": "ipython",
    "version": 3
   },
   "file_extension": ".py",
   "mimetype": "text/x-python",
   "name": "python",
   "nbconvert_exporter": "python",
   "pygments_lexer": "ipython3",
   "version": "3.12.3"
  }
 },
 "nbformat": 4,
 "nbformat_minor": 5
}
