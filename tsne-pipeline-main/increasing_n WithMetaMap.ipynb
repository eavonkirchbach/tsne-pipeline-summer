{
 "cells": [
  {
   "cell_type": "code",
   "execution_count": 8,
   "id": "ddbcb338-a66d-4e4d-828e-66d93c1908de",
   "metadata": {},
   "outputs": [],
   "source": [
    "# Install necessary packages\n",
    "#!pip install pytrials transformers sklearn matplotlib"
   ]
  },
  {
   "cell_type": "code",
   "execution_count": null,
   "id": "f006c1b3",
   "metadata": {},
   "outputs": [],
   "source": []
  },
  {
   "cell_type": "code",
   "execution_count": 9,
   "id": "b1ad0b93-7a81-41fd-ac47-5e09f0f2ab56",
   "metadata": {},
   "outputs": [],
   "source": [
    "# Import necessary libraries\n",
    "from pytrials.client import ClinicalTrials\n",
    "from transformers import AutoTokenizer, AutoModel\n",
    "import torch\n",
    "import numpy as np\n",
    "from sklearn.manifold import TSNE\n",
    "import matplotlib.pyplot as plt\n",
    "import plotly.express as px\n",
    "import plotly.io as pio"
   ]
  },
  {
   "cell_type": "code",
   "execution_count": 10,
   "id": "bcdf968e-294a-47ca-83ab-39f54410602f",
   "metadata": {},
   "outputs": [],
   "source": [
    "# Initialize ClinicalTrials client\n",
    "ct = ClinicalTrials()\n",
    "\n",
    "# Check valid fields\n",
    "#print(\"Valid fields:\", ct.study_fields[\"json\"])\n",
    "#print(ct.study_fields)"
   ]
  },
  {
   "cell_type": "code",
   "execution_count": 11,
   "id": "52201dfe-5f51-4897-88ba-c3590a47323e",
   "metadata": {},
   "outputs": [],
   "source": [
    "# Define a function to fetch clinical trial abstracts for given conditions\n",
    "def fetch_abstracts(conditions, max_results=1000):\n",
    "    abstracts = []\n",
    "    for condition in conditions:\n",
    "        results = ct.get_study_fields(\n",
    "            search_expr=condition, \n",
    "            fields=[\n",
    "                    #\"Study Title\",\n",
    "                    #\"Study Type\",\n",
    "                    \"Brief Summary\"\n",
    "            ],  # Add NCTId to see if BriefSummary is causing issues\n",
    "            max_studies=max_results # Ensure we don't request more than 1000 studies\n",
    "        )\n",
    "        abstracts.append(results)\n",
    "\n",
    "            \n",
    "    return abstracts"
   ]
  },
  {
   "cell_type": "code",
   "execution_count": 12,
   "id": "69e8d34d-806d-4c8e-8b3d-ffa10696f5ba",
   "metadata": {},
   "outputs": [],
   "source": [
    "# Fetch abstracts for a few popular clinical trial areas\n",
    "conditions = [\"Cancer+Oncology+Tumor+Neoplasm+Carcinoma+Malignancy\", # Cancer Keyword Collection\n",
    "              \"Diabetes+Diabetes Mellitus+Hyperglycemia+Insulin+Blood Sugar+Glucose\",  # Diabetes Keyword Collection\n",
    "              \"Coronavirus+COVID+SARS-CoV-2+Pandemic+Virus+Infection\" # COVID Keyword Collection\n",
    "             ]\n",
    "\n",
    "abstracts = fetch_abstracts(conditions,max_results=1000)"
   ]
  },
  {
   "cell_type": "code",
   "execution_count": 13,
   "id": "fc21ebad-9d35-4d65-b2a7-62335a774a6c",
   "metadata": {},
   "outputs": [
    {
     "name": "stdout",
     "output_type": "stream",
     "text": [
      "<class 'list'>\n",
      "3\n"
     ]
    }
   ],
   "source": [
    "#print(abstracts)\n",
    "print(type(abstracts))\n",
    "print(len(abstracts))\n",
    "#print(abstracts)"
   ]
  },
  {
   "cell_type": "code",
   "execution_count": 14,
   "id": "a5b758d3-9f1a-4229-a561-8fff8e6020ff",
   "metadata": {},
   "outputs": [],
   "source": [
    "abstracts_0 = abstracts[0]\n",
    "abstracts_1 = abstracts[1]\n",
    "abstracts_2 = abstracts[2]"
   ]
  },
  {
   "cell_type": "code",
   "execution_count": 15,
   "id": "4a2c08b9-8bb9-4817-8050-b90f9c357b74",
   "metadata": {},
   "outputs": [
    {
     "name": "stdout",
     "output_type": "stream",
     "text": [
      "1001\n",
      "1001\n",
      "1001\n"
     ]
    }
   ],
   "source": [
    "print(len(abstracts_0))\n",
    "print(len(abstracts_1))\n",
    "print(len(abstracts_2))"
   ]
  },
  {
   "cell_type": "code",
   "execution_count": 16,
   "id": "150b8138-11ba-4bf1-88d9-6c524066d1ec",
   "metadata": {},
   "outputs": [],
   "source": [
    "ab0 = abstracts_0[1:101]\n",
    "ab1 = abstracts_1[1:101]\n",
    "ab2 = abstracts_2[1:101]"
   ]
  },
  {
   "cell_type": "code",
   "execution_count": 17,
   "id": "87abd88c-276a-4556-bc2f-a6f4ede4572d",
   "metadata": {},
   "outputs": [
    {
     "data": {
      "text/plain": [
       "300"
      ]
     },
     "execution_count": 17,
     "metadata": {},
     "output_type": "execute_result"
    }
   ],
   "source": [
    "full_abs = ab0 + ab1 + ab2\n",
    "flattened_abs = [text for sublist in full_abs for text in sublist]\n",
    "len(flattened_abs)"
   ]
  },
  {
   "cell_type": "code",
   "execution_count": 18,
   "id": "fff474e7-db22-47d6-863a-d6e41c26eff0",
   "metadata": {},
   "outputs": [],
   "source": [
    "#partial_abs = ab0[0:10] + ab1[0:10] + ab2[0:10]\n",
    "#flattened_partial_abs = [text for sublist in partial_abs for text in sublist]\n",
    "#len(flattened_partial_abs)"
   ]
  },
  {
   "cell_type": "code",
   "execution_count": 19,
   "id": "9cf93ccc-923c-449a-b30f-dcd8ab7beafb",
   "metadata": {},
   "outputs": [],
   "source": [
    "# Load PubMedBERT model and tokenizer\n",
    "tokenizer = AutoTokenizer.from_pretrained(\"microsoft/BiomedNLP-PubMedBERT-base-uncased-abstract-fulltext\")\n",
    "model = AutoModel.from_pretrained(\"microsoft/BiomedNLP-PubMedBERT-base-uncased-abstract-fulltext\")"
   ]
  },
  {
   "cell_type": "code",
   "execution_count": 20,
   "id": "9ff7e7be-736b-46d0-8835-ed4f6a02c13d",
   "metadata": {},
   "outputs": [],
   "source": [
    "# Function to get embeddings from PubMedBERT\n",
    "def get_embeddings(texts, tokenizer, model):\n",
    "    inputs = tokenizer(texts, return_tensors=\"pt\", padding=True, truncation=True, max_length=512)\n",
    "    with torch.no_grad():\n",
    "        outputs = model(**inputs)\n",
    "    embeddings = outputs.last_hidden_state.mean(dim=1).numpy()\n",
    "    return embeddings"
   ]
  },
  {
   "cell_type": "code",
   "execution_count": 21,
   "id": "ab50e39c-d159-46be-b145-ef2d36f2c950",
   "metadata": {},
   "outputs": [],
   "source": [
    "from concurrent.futures import ThreadPoolExecutor, as_completed"
   ]
  },
  {
   "cell_type": "code",
   "execution_count": 22,
   "id": "641ebdc7-9c0e-489d-877b-13ccd109ff53",
   "metadata": {},
   "outputs": [],
   "source": [
    "# Ensure that the device is set to GPU if available, otherwise fallback to CPU\n",
    "device = torch.device(\"cuda\" if torch.cuda.is_available() else \"cpu\")\n",
    "\n",
    "# Function to process a single batch\n",
    "def process_batch(batch_texts, tokenizer, model, device):\n",
    "    inputs = tokenizer(batch_texts, return_tensors=\"pt\", padding=True, truncation=True, max_length=512).to(device)\n",
    "    with torch.no_grad():\n",
    "        outputs = model(**inputs)\n",
    "    batch_embeddings = outputs.last_hidden_state.mean(dim=1).cpu().numpy()\n",
    "    return batch_embeddings\n",
    "\n",
    "# Function to get embeddings from PubMedBERT in parallel\n",
    "def get_embeddings_parallel(texts, tokenizer, model, batch_size=8, num_workers=4):\n",
    "    # Split texts into batches\n",
    "    batches = [texts[i:i + batch_size] for i in range(0, len(texts), batch_size)]\n",
    "    \n",
    "    embeddings = []\n",
    "    with ThreadPoolExecutor(max_workers=num_workers) as executor:\n",
    "        # Submit tasks to the executor\n",
    "        future_to_batch = {executor.submit(process_batch, batch, tokenizer, model, device): batch for batch in batches}\n",
    "        \n",
    "        for future in as_completed(future_to_batch):\n",
    "            batch_embeddings = future.result()\n",
    "            embeddings.append(batch_embeddings)\n",
    "    \n",
    "    # Combine the embeddings from all batches\n",
    "    embeddings = np.vstack(embeddings)\n",
    "    return embeddings\n"
   ]
  },
  {
   "cell_type": "code",
   "execution_count": 24,
   "id": "bfe17edf-bf0a-4c07-9844-b81ea582554c",
   "metadata": {},
   "outputs": [],
   "source": [
    "# Get embeddings for the abstracts\n",
    "# Erika's note: took 5 min for this to load.. any way to make it faster?\n",
    "embeddings = get_embeddings_parallel(flattened_abs, tokenizer, model, batch_size=8, num_workers=6)"
   ]
  },
  {
   "cell_type": "code",
   "execution_count": 26,
   "id": "bbcb2783-b89d-4303-989e-996561a95988",
   "metadata": {},
   "outputs": [],
   "source": [
    "# Adjust perplexity to be less than the number of samples\n",
    "perplexity_value = min(embeddings.shape[0] - 1, 30)  # Use the minimum of number of samples - 1 or 30\n",
    "\n",
    "# Use t-SNE to reduce dimensionality to 2D\n",
    "tsne = TSNE(n_components=2, random_state=42, perplexity=perplexity_value)\n",
    "embeddings_2d = tsne.fit_transform(embeddings)"
   ]
  },
  {
   "cell_type": "code",
   "execution_count": 27,
   "id": "aa94e570-6723-47b8-aac8-3be07c587bb9",
   "metadata": {},
   "outputs": [
    {
     "data": {
      "image/png": "[encoded data removed]",
      "text/plain": [
       "<Figure size 1000x800 with 1 Axes>"
      ]
     },
     "metadata": {},
     "output_type": "display_data"
    }
   ],
   "source": [
    "# Plot the 2D embeddings\n",
    "plt.figure(figsize=(10, 8))\n",
    "plt.scatter(embeddings_2d[:, 0], embeddings_2d[:, 1], alpha=0.5)\n",
    "plt.title(\"2D Visualization of Clinical Trial Abstracts\")\n",
    "plt.xlabel(\"t-SNE Dimension 1\")\n",
    "plt.ylabel(\"t-SNE Dimension 2\")\n",
    "plt.show()"
   ]
  },
  {
   "cell_type": "code",
   "execution_count": 28,
   "id": "7f2b48db-6e88-4c6c-b22b-03e6e213b66a",
   "metadata": {},
   "outputs": [],
   "source": [
    "# Create labels for the points\n",
    "#num_samples = embeddings.shape[0]\n",
    "#labels = ['Cancer'] * (num_samples // 3) + ['Diabetes'] * (num_samples // 3) + ['COVID related'] * (num_samples - 2 * (num_samples // 3))"
   ]
  },
  {
   "cell_type": "code",
   "execution_count": 4,
   "id": "e332e415",
   "metadata": {},
   "outputs": [
    {
     "name": "stdout",
     "output_type": "stream",
     "text": [
      "\n",
      "This is a try for the biomedical entity extraction. Here are some biomedical words: Cancer and Diabetes and Pneumonia\n",
      "\n"
     ]
    }
   ],
   "source": [
    "# input text from document that already went through unstructured\n",
    "\n",
    "extractedText = \"\"\"\n",
    "This is a try for the biomedical entity extraction. Here are some biomedical words: Cancer and Diabetes and Pneumonia\n",
    "\"\"\"\n",
    "print(extractedText)"
   ]
  },
  {
   "cell_type": "code",
   "execution_count": 5,
   "id": "8a6beeed",
   "metadata": {},
   "outputs": [
    {
     "name": "stderr",
     "output_type": "stream",
     "text": [
      "c:\\Users\\vonkie\\AppData\\Local\\Programs\\Python\\Python312\\Lib\\site-packages\\urllib3\\connectionpool.py:1103: InsecureRequestWarning: Unverified HTTPS request is being made to host 'lexica.pfizer.com'. Adding certificate verification is strongly advised. See: https://urllib3.readthedocs.io/en/latest/advanced-usage.html#tls-warnings\n",
      "  warnings.warn(\n"
     ]
    }
   ],
   "source": [
    "## SETUP WITH INPUT TEXT\n",
    "\n",
    "import requests\n",
    "import json\n",
    "\n",
    "text = extractedText\n",
    "\n",
    "headers={\n",
    "    'content-type': 'text/plain'\n",
    "}\n",
    "\n",
    "url = 'https://lexica.pfizer.com/ks/umls/metamap'\n",
    "res = requests.post(url, verify=False, headers=headers, data=text.encode('utf-8'))\n",
    "res.raise_for_status()\n"
   ]
  },
  {
   "cell_type": "code",
   "execution_count": 6,
   "id": "8da63de9",
   "metadata": {},
   "outputs": [
    {
     "name": "stdout",
     "output_type": "stream",
     "text": [
      "Biomedical word list:\n",
      "biomedical\n",
      "extraction\n",
      "cancer\n",
      "diabetes\n",
      "pneumonia\n",
      "------\n",
      "\n",
      "\n",
      "not used word list:\n",
      "entity\n",
      "word\n",
      "------\n"
     ]
    }
   ],
   "source": [
    "## FINISHED BIOMEDICAL SORTER (w/ comments)\n",
    "\n",
    "keywordList = ['aapp', 'amas', 'anab', 'anst', 'antb', 'bacs', 'bact', 'bdsu',\n",
    "               'bdsy', 'biof', 'blor', 'bmod', 'bodm', 'bpoc', 'bsoj', 'celc',\n",
    "               'celf', 'cell', 'cgab', 'chem', 'chvf', 'chvs', 'clas',\n",
    "               'clnd','comd', 'drdd', 'dsyn', 'eehu', 'elii', 'emod',\n",
    "               'emst', 'enzy', 'euka', 'ffas', 'genf', 'gngm', 'hcpp', 'horm',\n",
    "               'imft', 'irda', 'lbpr', 'lbtr', 'mbrt', 'moft',\n",
    "               'mosq', 'neop', 'nnon', 'nusq', 'orch', 'orga', 'orgf', 'orgm',\n",
    "               'ortf', 'patf', 'phsf', 'phsu', 'rcpt', 'sosy', 'tisu',\n",
    "               'virs', 'vita', 'vrbt',\n",
    "               # taken away: 'cnce', 'clna', 'inch', 'medd', 'fndg'\n",
    "               # added: \n",
    "               'topp']\n",
    "data = res.json()['utteranceList']\n",
    "\n",
    "n = 0\n",
    "usedList = []\n",
    "notUsedList = []\n",
    "\n",
    "for d in data:\n",
    "    pcmlist = d['pcmlist']\n",
    "    for pcm in pcmlist:\n",
    "        maplist = pcm['mappingList']\n",
    "        for map in maplist:\n",
    "            evlist = map['evList']\n",
    "            for ev in evlist:\n",
    "                semType = ev['semanticTypes']\n",
    "                word = ev['conceptName'].lower()\n",
    "                \n",
    "                listofST = \"\".join(ev['semanticTypes'])\n",
    "                \n",
    "                if (listofST in keywordList\n",
    "                    or (len(semType) > 1 \n",
    "                        and (semType[0] in keywordList or semType[1] in keywordList))):\n",
    "                    \n",
    "                    # print('found it:', semType, \", \", word, \", \", n)\n",
    "                    # print('length of type:', len(semType))\n",
    "                    # print('first semType:', semType[0])\n",
    "                    # if len(semType) > 1:\n",
    "                    #     print('second semType:', semType[1])\n",
    "                    # print('-----')\n",
    "                    \n",
    "                    if word in usedList:\n",
    "                        pass\n",
    "                    else:\n",
    "                        usedList.append(word)\n",
    "                        \n",
    "                else:\n",
    "                        \n",
    "                    # print('not found:', semType, \", \", word, \", \", n)\n",
    "                    # print('listofST:', listofST)\n",
    "                    # print('length of type:', len(semType))\n",
    "                    # print('first semType:', semType[0])\n",
    "                    # if len(semType) > 1:\n",
    "                    #     print('second semType:', semType[1])\n",
    "                    # print('-----')\n",
    "                    \n",
    "                    if word in notUsedList:\n",
    "                        pass\n",
    "                    else:\n",
    "                        notUsedList.append(word)\n",
    "                    \n",
    "                n = n + 1\n",
    "\n",
    "print('Biomedical word list:')\n",
    "print(*usedList, sep = \"\\n\",)\n",
    "print('------')\n",
    "print('\\n')\n",
    "\n",
    "print('not used word list:')\n",
    "print(*notUsedList, sep = \"\\n\")\n",
    "print('------')"
   ]
  },
  {
   "cell_type": "code",
   "execution_count": 32,
   "id": "7997e901",
   "metadata": {},
   "outputs": [
    {
     "name": "stdout",
     "output_type": "stream",
     "text": [
      "cancer ,  diabetes ,  pneumonia\n"
     ]
    }
   ],
   "source": [
    "# accessing the biomedical extracted words\n",
    "\n",
    "firstBioWord = usedList[3]\n",
    "secondBioWord = usedList[4]\n",
    "thirdBioWord = usedList[5]\n",
    "\n",
    "print(firstBioWord, \", \", secondBioWord, \", \", thirdBioWord)"
   ]
  },
  {
   "cell_type": "code",
   "execution_count": 33,
   "id": "eace264f",
   "metadata": {},
   "outputs": [],
   "source": [
    "# Create labels for the points\n",
    "num_samples = embeddings.shape[0]\n",
    "labels = [firstBioWord] * (num_samples // 3) + [secondBioWord] * (num_samples // 3) + [thirdBioWord] * (num_samples - 2 * (num_samples // 3))"
   ]
  },
  {
   "cell_type": "code",
   "execution_count": 34,
   "id": "7f7c66fd",
   "metadata": {},
   "outputs": [
    {
     "data": {
      "text/plain": [
       "300"
      ]
     },
     "execution_count": 34,
     "metadata": {},
     "output_type": "execute_result"
    }
   ],
   "source": [
    "len(labels)"
   ]
  },
  {
   "cell_type": "code",
   "execution_count": 35,
   "id": "41051e02-a814-4c82-8241-9335d925054c",
   "metadata": {},
   "outputs": [],
   "source": [
    "# Create a DataFrame for Plotly\n",
    "import pandas as pd\n",
    "df = pd.DataFrame({\n",
    "    't-SNE Dimension 1': embeddings_2d[:, 0],\n",
    "    't-SNE Dimension 2': embeddings_2d[:, 1],\n",
    "    'Label': labels\n",
    "})"
   ]
  },
  {
   "cell_type": "code",
   "execution_count": 36,
   "id": "1f0d0176-a2e0-4473-86b7-c02ce977ad74",
   "metadata": {},
   "outputs": [
    {
     "data": {
      "application/vnd.plotly.v1+json": {
       "config": {
        "plotlyServerURL": "https://plot.ly"
       },
       "data": [
        {
         "hovertemplate": "Label=cancer<br>t-SNE Dimension 1=%{x}<br>t-SNE Dimension 2=%{y}<extra></extra>",
         "legendgroup": "cancer",
         "marker": {
          "color": "#636efa",
          "symbol": "circle"
         },
         "mode": "markers",
         "name": "cancer",
         "orientation": "v",
         "showlegend": true,
         "type": "scatter",
         "x": [
          25.283050537109375,
          -6.491661071777344,
          -10.031075477600098,
          -7.505312442779541,
          -4.976586818695068,
          -6.593592166900635,
          -3.3087759017944336,
          -14.11025619506836,
          21.33108139038086,
          -3.524160146713257,
          4.370150089263916,
          -4.5275092124938965,
          -3.567976236343384,
          -2.475785493850708,
          -3.509551763534546,
          4.1337761878967285,
          -9.744564056396484,
          23.185930252075195,
          -8.185687065124512,
          -8.153234481811523,
          0.8946410417556763,
          16.288745880126953,
          0.291623055934906,
          -6.14757776260376,
          12.569177627563477,
          -9.139287948608398,
          12.120697021484375,
          -11.274524688720703,
          20.620872497558594,
          24.727243423461914,
          -7.3061347007751465,
          -12.375049591064453,
          -9.710275650024414,
          -4.472155570983887,
          -9.923701286315918,
          -5.528839111328125,
          -7.110570430755615,
          24.394441604614258,
          -14.42440128326416,
          -5.921960353851318,
          -12.745848655700684,
          -12.932518005371094,
          -8.664496421813965,
          14.169011116027832,
          22.595624923706055,
          -8.556373596191406,
          -8.246251106262207,
          -2.6246261596679688,
          -3.449878454208374,
          11.21193790435791,
          2.473893880844116,
          -6.340211868286133,
          -2.4302914142608643,
          -4.385182857513428,
          25.920560836791992,
          3.468959331512451,
          13.955880165100098,
          24.56583595275879,
          -9.891605377197266,
          -0.13629187643527985,
          -2.277318239212036,
          14.031596183776855,
          -1.78925359249115,
          -7.699172019958496,
          7.524650573730469,
          27.25286102294922,
          -7.7651543617248535,
          -4.095144748687744,
          24.54895782470703,
          -6.9719953536987305,
          -4.548990726470947,
          -5.907092571258545,
          -11.445168495178223,
          26.938737869262695,
          -5.816263675689697,
          13.611013412475586,
          23.105052947998047,
          -9.444982528686523,
          -6.772423267364502,
          -7.956058025360107,
          -4.456401824951172,
          -6.906772136688232,
          -8.01242446899414,
          -4.458930492401123,
          -5.34173059463501,
          -7.817568778991699,
          -9.383218765258789,
          24.014978408813477,
          8.982858657836914,
          -14.043700218200684,
          1.7950106859207153,
          25.154930114746094,
          -12.166277885437012,
          -11.883705139160156,
          0.8636038899421692,
          -1.4911750555038452,
          -6.00773286819458,
          -2.252568483352661,
          25.970104217529297,
          -5.22401762008667
         ],
         "xaxis": "x",
         "y": [
          4.665645122528076,
          -5.070156574249268,
          -11.187090873718262,
          -13.892687797546387,
          -14.379467964172363,
          -12.446834564208984,
          -14.78683090209961,
          -7.071767330169678,
          4.275404930114746,
          -13.459355354309082,
          -2.527578353881836,
          -12.156733512878418,
          -11.87781810760498,
          -7.126509189605713,
          -7.7062907218933105,
          -3.364093542098999,
          -8.585286140441895,
          -3.334716796875,
          -9.087681770324707,
          -8.875713348388672,
          -5.6555609703063965,
          3.780186414718628,
          -9.142375946044922,
          -5.031571388244629,
          3.3900363445281982,
          -15.29864501953125,
          1.2774720191955566,
          -6.971094131469727,
          -2.7420589923858643,
          3.4906632900238037,
          -14.7787504196167,
          -6.184207439422607,
          -8.0447998046875,
          -17.111560821533203,
          -13.891265869140625,
          -13.674467086791992,
          -15.464799880981445,
          1.9929053783416748,
          -6.32757043838501,
          -15.687444686889648,
          -11.832124710083008,
          -11.890473365783691,
          -13.640656471252441,
          2.4936070442199707,
          -2.331561803817749,
          -7.885891437530518,
          -10.82536792755127,
          -0.19708003103733063,
          -7.917192459106445,
          2.0789051055908203,
          -5.61745023727417,
          -13.735353469848633,
          -10.48311996459961,
          -13.280829429626465,
          2.1282341480255127,
          -5.672007083892822,
          3.0123555660247803,
          -2.9107768535614014,
          -9.236536979675293,
          -6.626615047454834,
          -12.763118743896484,
          3.931370258331299,
          -12.185720443725586,
          -16.566709518432617,
          -2.0699925422668457,
          2.2421321868896484,
          -6.757694244384766,
          -12.569904327392578,
          4.18908166885376,
          -13.001480102539062,
          -7.5883708000183105,
          6.565731048583984,
          -9.208671569824219,
          2.7282557487487793,
          -12.531149864196777,
          4.005152702331543,
          4.386806964874268,
          -12.195554733276367,
          -6.826791286468506,
          -8.283514022827148,
          -16.993549346923828,
          -11.552192687988281,
          -9.308128356933594,
          -13.672404289245605,
          -10.636975288391113,
          -14.891860008239746,
          -9.578071594238281,
          3.297445058822632,
          1.014792561531067,
          -7.822444438934326,
          -7.242478370666504,
          1.6416771411895752,
          -9.255305290222168,
          -11.281203269958496,
          -7.971334457397461,
          -9.943857192993164,
          -1.2116663455963135,
          1.4935227632522583,
          -2.819382429122925,
          -3.1939034461975098
         ],
         "yaxis": "y"
        },
        {
         "hovertemplate": "Label=diabetes<br>t-SNE Dimension 1=%{x}<br>t-SNE Dimension 2=%{y}<extra></extra>",
         "legendgroup": "diabetes",
         "marker": {
          "color": "#EF553B",
          "symbol": "circle"
         },
         "mode": "markers",
         "name": "diabetes",
         "orientation": "v",
         "showlegend": true,
         "type": "scatter",
         "x": [
          -14.060909271240234,
          -2.864394426345825,
          -8.928939819335938,
          -5.762395858764648,
          10.555133819580078,
          -12.507020950317383,
          -7.037720680236816,
          -15.398005485534668,
          26.781505584716797,
          12.442587852478027,
          -3.9463682174682617,
          -14.997294425964355,
          -13.445695877075195,
          -6.314525604248047,
          -8.574456214904785,
          -13.830663681030273,
          -4.077765464782715,
          24.668262481689453,
          27.429834365844727,
          -15.86630916595459,
          25.774208068847656,
          -2.3044984340667725,
          -15.107234001159668,
          0.6394208669662476,
          11.546777725219727,
          2.4394400119781494,
          -4.695074558258057,
          25.01410484313965,
          9.775542259216309,
          26.76877212524414,
          -9.848600387573242,
          -0.749295175075531,
          -11.549786567687988,
          -0.6455011963844299,
          -12.524944305419922,
          13.695860862731934,
          -15.635848999023438,
          -14.659801483154297,
          -2.0695323944091797,
          -11.920876502990723,
          24.208757400512695,
          -1.802631139755249,
          -9.03526496887207,
          -1.650758147239685,
          -3.1889281272888184,
          0.49014022946357727,
          -15.73244857788086,
          -16.276437759399414,
          -13.993633270263672,
          25.902177810668945,
          -0.2209692895412445,
          13.039871215820312,
          7.737301349639893,
          -11.426298141479492,
          26.669538497924805,
          -10.601506233215332,
          -6.670510292053223,
          -16.520967483520508,
          -17.558340072631836,
          4.519301414489746,
          -0.4448886811733246,
          -13.060952186584473,
          24.660001754760742,
          -1.1674599647521973,
          -13.94666576385498,
          -13.017224311828613,
          -12.222821235656738,
          -8.30957317352295,
          -13.79593563079834,
          -9.186986923217773,
          -8.059569358825684,
          0.3079946041107178,
          -7.5531229972839355,
          10.328383445739746,
          25.2723331451416,
          -4.6781229972839355,
          8.2810697555542,
          23.955793380737305,
          -12.551435470581055,
          -11.274826049804688,
          6.010112285614014,
          0.5927289724349976,
          13.266249656677246,
          -4.972996711730957,
          -2.3077869415283203,
          3.884718894958496,
          23.499679565429688,
          -10.125505447387695,
          -9.026952743530273,
          -17.115251541137695,
          -16.73929214477539,
          -10.213119506835938,
          9.48578929901123,
          24.698692321777344,
          -2.9067230224609375,
          -1.2262285947799683,
          -2.6488804817199707,
          -15.07762336730957,
          -4.479889392852783,
          -15.432497024536133
         ],
         "xaxis": "x",
         "y": [
          -2.0720691680908203,
          1.8795350790023804,
          3.0971570014953613,
          -1.3052024841308594,
          -1.0881311893463135,
          -3.158724308013916,
          2.313784599304199,
          1.6058759689331055,
          0.6551103591918945,
          -1.0399845838546753,
          -1.7016304731369019,
          -1.156698226928711,
          7.415106296539307,
          8.260466575622559,
          -13.04682731628418,
          -11.845039367675781,
          1.003453016281128,
          0.26625925302505493,
          -0.7722310423851013,
          2.514626979827881,
          0.5127917528152466,
          -3.406181573867798,
          -0.3510400354862213,
          -7.442734241485596,
          -0.8184934854507446,
          -0.1386401355266571,
          1.5338984727859497,
          -1.8561509847640991,
          -0.39828255772590637,
          -0.11296147853136063,
          1.6082186698913574,
          1.2199281454086304,
          -1.9926421642303467,
          0.6018749475479126,
          2.8548173904418945,
          0.13803425431251526,
          -2.14151930809021,
          -1.079545021057129,
          -4.142640590667725,
          -1.2932350635528564,
          -1.8953338861465454,
          0.632224977016449,
          -0.35311612486839294,
          3.1798765659332275,
          -3.3677775859832764,
          -0.12248631566762924,
          2.3395028114318848,
          1.37473464012146,
          -2.69201397895813,
          -0.5671699047088623,
          0.40637609362602234,
          -1.4747226238250732,
          -0.1735207438468933,
          -0.8259007334709167,
          -1.2151446342468262,
          -2.5545032024383545,
          2.2164013385772705,
          -3.3588297367095947,
          0.9534288644790649,
          -0.6743388175964355,
          -3.822715997695923,
          -0.9764963984489441,
          0.15261414647102356,
          -3.1420159339904785,
          -2.856656074523926,
          -0.7977405786514282,
          2.239147901535034,
          -4.144655227661133,
          0.19069842994213104,
          0.9062339067459106,
          -0.0780063271522522,
          -2.7611846923828125,
          -2.1921870708465576,
          -0.22563312947750092,
          -0.5102128982543945,
          -0.03714758902788162,
          1.3710222244262695,
          -1.5733308792114258,
          1.608049988746643,
          1.550899863243103,
          -0.24258634448051453,
          -4.31410026550293,
          0.4301643371582031,
          3.098487138748169,
          -2.5626301765441895,
          -0.5511163473129272,
          -0.30873897671699524,
          -2.7469472885131836,
          2.010364294052124,
          -3.517993927001953,
          1.1742240190505981,
          -0.6778396964073181,
          -0.6853803396224976,
          -0.7820678949356079,
          -1.3750675916671753,
          -1.2419512271881104,
          -1.4637068510055542,
          -3.512831449508667,
          -1.8510384559631348,
          -3.6385350227355957
         ],
         "yaxis": "y"
        },
        {
         "hovertemplate": "Label=pneumonia<br>t-SNE Dimension 1=%{x}<br>t-SNE Dimension 2=%{y}<extra></extra>",
         "legendgroup": "pneumonia",
         "marker": {
          "color": "#00cc96",
          "symbol": "circle"
         },
         "mode": "markers",
         "name": "pneumonia",
         "orientation": "v",
         "showlegend": true,
         "type": "scatter",
         "x": [
          -0.4975302219390869,
          -10.289571762084961,
          0.0023630191572010517,
          -4.328431606292725,
          2.468667984008789,
          22.714494705200195,
          16.748445510864258,
          18.224163055419922,
          21.753578186035156,
          -0.1956825852394104,
          -7.00556755065918,
          9.69217586517334,
          -12.096171379089355,
          5.624597549438477,
          21.12445640563965,
          -10.802169799804688,
          22.614887237548828,
          1.7893704175949097,
          -5.700854778289795,
          -3.6022541522979736,
          7.266724109649658,
          22.76865005493164,
          22.034778594970703,
          7.065872669219971,
          -8.432186126708984,
          -11.617209434509277,
          -8.03236198425293,
          -6.620863437652588,
          -10.536731719970703,
          -12.125265121459961,
          -10.909459114074707,
          22.554367065429688,
          -1.5324329137802124,
          16.216367721557617,
          -1.7043147087097168,
          21.79378318786621,
          13.033483505249023,
          7.370123386383057,
          -1.3091119527816772,
          16.289121627807617,
          21.53818702697754,
          9.270228385925293,
          -12.896672248840332,
          17.91330909729004,
          -3.981119394302368,
          2.0906124114990234,
          -9.739429473876953,
          2.9722962379455566,
          -7.158494472503662,
          -9.948217391967773,
          -17.963943481445312,
          -0.4303600490093231,
          0.7764908075332642,
          9.940740585327148,
          1.265057921409607,
          20.545637130737305,
          4.660091876983643,
          -8.28042221069336,
          1.829007625579834,
          -1.7567375898361206,
          22.342336654663086,
          10.588983535766602,
          -3.72389817237854,
          -3.3644654750823975,
          -5.30856990814209,
          6.107619762420654,
          -6.864952087402344,
          -6.472623825073242,
          0.027411866933107376,
          6.598383903503418,
          -3.675337076187134,
          23.947994232177734,
          8.246000289916992,
          -11.410210609436035,
          21.5530948638916,
          15.308241844177246,
          -5.201879978179932,
          -2.960414409637451,
          -3.415562629699707,
          20.082839965820312,
          0.69170743227005,
          9.875307083129883,
          7.664740085601807,
          8.911227226257324,
          21.738798141479492,
          0.8779955506324768,
          -0.07175734639167786,
          23.065805435180664,
          -2.3944594860076904,
          20.318769454956055,
          17.642324447631836,
          -12.29847240447998,
          0.34934887290000916,
          -10.731207847595215,
          8.742630958557129,
          18.78364372253418,
          -5.8402533531188965,
          -3.2364776134490967,
          -1.1048150062561035,
          21.07884979248047
         ],
         "xaxis": "x",
         "y": [
          7.886806964874268,
          7.614351749420166,
          8.937520027160645,
          10.207023620605469,
          3.814699411392212,
          1.5151331424713135,
          -0.48821890354156494,
          2.281970262527466,
          1.7289546728134155,
          3.686548948287964,
          9.67105484008789,
          3.8911828994750977,
          7.349841594696045,
          2.7710351943969727,
          -0.4112829566001892,
          5.910634994506836,
          2.1711175441741943,
          3.6610803604125977,
          9.439602851867676,
          9.787250518798828,
          2.004099130630493,
          0.6533488631248474,
          1.0020058155059814,
          2.6110446453094482,
          11.33811092376709,
          8.69224739074707,
          7.119374752044678,
          11.880544662475586,
          8.70449161529541,
          10.565825462341309,
          8.168211936950684,
          -0.8743074536323547,
          8.611692428588867,
          2.1564626693725586,
          8.05068588256836,
          0.3407629132270813,
          1.7078306674957275,
          3.5606324672698975,
          4.950155258178711,
          0.37914547324180603,
          -0.7406991124153137,
          4.669264793395996,
          7.7299113273620605,
          -1.2079955339431763,
          6.669822692871094,
          -3.9402318000793457,
          8.380056381225586,
          3.235278606414795,
          8.621912956237793,
          9.563865661621094,
          -1.5470298528671265,
          6.223361968994141,
          -5.37710428237915,
          1.943865418434143,
          6.812913417816162,
          2.0401978492736816,
          3.4250497817993164,
          10.127713203430176,
          5.818901538848877,
          5.942428112030029,
          3.0164239406585693,
          3.05365252494812,
          10.835545539855957,
          8.1345853805542,
          4.1932525634765625,
          2.30558443069458,
          10.392274856567383,
          4.596110820770264,
          7.128663063049316,
          3.3513524532318115,
          7.375435829162598,
          1.1396459341049194,
          3.251512050628662,
          7.397407054901123,
          1.9687035083770752,
          0.4932716488838196,
          9.126632690429688,
          7.307567119598389,
          9.643998146057129,
          0.4328269362449646,
          6.713728904724121,
          2.7917869091033936,
          4.043241024017334,
          3.637280225753784,
          -0.1719352751970291,
          5.62373685836792,
          5.536118984222412,
          1.031355381011963,
          5.569725036621094,
          -1.3033154010772705,
          0.16528980433940887,
          3.7386724948883057,
          4.28940486907959,
          11.342212677001953,
          2.402559280395508,
          0.21479102969169617,
          9.470918655395508,
          5.262709617614746,
          4.3573408126831055,
          0.6499775648117065
         ],
         "yaxis": "y"
        }
       ],
       "layout": {
        "autosize": true,
        "font": {
         "size": 14
        },
        "height": 600,
        "legend": {
         "orientation": "h",
         "title": {
          "text": "Category"
         },
         "tracegroupgap": 0,
         "x": 1,
         "xanchor": "right",
         "y": 1.02,
         "yanchor": "bottom"
        },
        "paper_bgcolor": "rgba(0,0,0,0)",
        "plot_bgcolor": "rgba(0,0,0,0)",
        "template": {
         "data": {
          "bar": [
           {
            "error_x": {
             "color": "#2a3f5f"
            },
            "error_y": {
             "color": "#2a3f5f"
            },
            "marker": {
             "line": {
              "color": "#E5ECF6",
              "width": 0.5
             },
             "pattern": {
              "fillmode": "overlay",
              "size": 10,
              "solidity": 0.2
             }
            },
            "type": "bar"
           }
          ],
          "barpolar": [
           {
            "marker": {
             "line": {
              "color": "#E5ECF6",
              "width": 0.5
             },
             "pattern": {
              "fillmode": "overlay",
              "size": 10,
              "solidity": 0.2
             }
            },
            "type": "barpolar"
           }
          ],
          "carpet": [
           {
            "aaxis": {
             "endlinecolor": "#2a3f5f",
             "gridcolor": "white",
             "linecolor": "white",
             "minorgridcolor": "white",
             "startlinecolor": "#2a3f5f"
            },
            "baxis": {
             "endlinecolor": "#2a3f5f",
             "gridcolor": "white",
             "linecolor": "white",
             "minorgridcolor": "white",
             "startlinecolor": "#2a3f5f"
            },
            "type": "carpet"
           }
          ],
          "choropleth": [
           {
            "colorbar": {
             "outlinewidth": 0,
             "ticks": ""
            },
            "type": "choropleth"
           }
          ],
          "contour": [
           {
            "colorbar": {
             "outlinewidth": 0,
             "ticks": ""
            },
            "colorscale": [
             [
              0,
              "#0d0887"
             ],
             [
              0.1111111111111111,
              "#46039f"
             ],
             [
              0.2222222222222222,
              "#7201a8"
             ],
             [
              0.3333333333333333,
              "#9c179e"
             ],
             [
              0.4444444444444444,
              "#bd3786"
             ],
             [
              0.5555555555555556,
              "#d8576b"
             ],
             [
              0.6666666666666666,
              "#ed7953"
             ],
             [
              0.7777777777777778,
              "#fb9f3a"
             ],
             [
              0.8888888888888888,
              "#fdca26"
             ],
             [
              1,
              "#f0f921"
             ]
            ],
            "type": "contour"
           }
          ],
          "contourcarpet": [
           {
            "colorbar": {
             "outlinewidth": 0,
             "ticks": ""
            },
            "type": "contourcarpet"
           }
          ],
          "heatmap": [
           {
            "colorbar": {
             "outlinewidth": 0,
             "ticks": ""
            },
            "colorscale": [
             [
              0,
              "#0d0887"
             ],
             [
              0.1111111111111111,
              "#46039f"
             ],
             [
              0.2222222222222222,
              "#7201a8"
             ],
             [
              0.3333333333333333,
              "#9c179e"
             ],
             [
              0.4444444444444444,
              "#bd3786"
             ],
             [
              0.5555555555555556,
              "#d8576b"
             ],
             [
              0.6666666666666666,
              "#ed7953"
             ],
             [
              0.7777777777777778,
              "#fb9f3a"
             ],
             [
              0.8888888888888888,
              "#fdca26"
             ],
             [
              1,
              "#f0f921"
             ]
            ],
            "type": "heatmap"
           }
          ],
          "heatmapgl": [
           {
            "colorbar": {
             "outlinewidth": 0,
             "ticks": ""
            },
            "colorscale": [
             [
              0,
              "#0d0887"
             ],
             [
              0.1111111111111111,
              "#46039f"
             ],
             [
              0.2222222222222222,
              "#7201a8"
             ],
             [
              0.3333333333333333,
              "#9c179e"
             ],
             [
              0.4444444444444444,
              "#bd3786"
             ],
             [
              0.5555555555555556,
              "#d8576b"
             ],
             [
              0.6666666666666666,
              "#ed7953"
             ],
             [
              0.7777777777777778,
              "#fb9f3a"
             ],
             [
              0.8888888888888888,
              "#fdca26"
             ],
             [
              1,
              "#f0f921"
             ]
            ],
            "type": "heatmapgl"
           }
          ],
          "histogram": [
           {
            "marker": {
             "pattern": {
              "fillmode": "overlay",
              "size": 10,
              "solidity": 0.2
             }
            },
            "type": "histogram"
           }
          ],
          "histogram2d": [
           {
            "colorbar": {
             "outlinewidth": 0,
             "ticks": ""
            },
            "colorscale": [
             [
              0,
              "#0d0887"
             ],
             [
              0.1111111111111111,
              "#46039f"
             ],
             [
              0.2222222222222222,
              "#7201a8"
             ],
             [
              0.3333333333333333,
              "#9c179e"
             ],
             [
              0.4444444444444444,
              "#bd3786"
             ],
             [
              0.5555555555555556,
              "#d8576b"
             ],
             [
              0.6666666666666666,
              "#ed7953"
             ],
             [
              0.7777777777777778,
              "#fb9f3a"
             ],
             [
              0.8888888888888888,
              "#fdca26"
             ],
             [
              1,
              "#f0f921"
             ]
            ],
            "type": "histogram2d"
           }
          ],
          "histogram2dcontour": [
           {
            "colorbar": {
             "outlinewidth": 0,
             "ticks": ""
            },
            "colorscale": [
             [
              0,
              "#0d0887"
             ],
             [
              0.1111111111111111,
              "#46039f"
             ],
             [
              0.2222222222222222,
              "#7201a8"
             ],
             [
              0.3333333333333333,
              "#9c179e"
             ],
             [
              0.4444444444444444,
              "#bd3786"
             ],
             [
              0.5555555555555556,
              "#d8576b"
             ],
             [
              0.6666666666666666,
              "#ed7953"
             ],
             [
              0.7777777777777778,
              "#fb9f3a"
             ],
             [
              0.8888888888888888,
              "#fdca26"
             ],
             [
              1,
              "#f0f921"
             ]
            ],
            "type": "histogram2dcontour"
           }
          ],
          "mesh3d": [
           {
            "colorbar": {
             "outlinewidth": 0,
             "ticks": ""
            },
            "type": "mesh3d"
           }
          ],
          "parcoords": [
           {
            "line": {
             "colorbar": {
              "outlinewidth": 0,
              "ticks": ""
             }
            },
            "type": "parcoords"
           }
          ],
          "pie": [
           {
            "automargin": true,
            "type": "pie"
           }
          ],
          "scatter": [
           {
            "fillpattern": {
             "fillmode": "overlay",
             "size": 10,
             "solidity": 0.2
            },
            "type": "scatter"
           }
          ],
          "scatter3d": [
           {
            "line": {
             "colorbar": {
              "outlinewidth": 0,
              "ticks": ""
             }
            },
            "marker": {
             "colorbar": {
              "outlinewidth": 0,
              "ticks": ""
             }
            },
            "type": "scatter3d"
           }
          ],
          "scattercarpet": [
           {
            "marker": {
             "colorbar": {
              "outlinewidth": 0,
              "ticks": ""
             }
            },
            "type": "scattercarpet"
           }
          ],
          "scattergeo": [
           {
            "marker": {
             "colorbar": {
              "outlinewidth": 0,
              "ticks": ""
             }
            },
            "type": "scattergeo"
           }
          ],
          "scattergl": [
           {
            "marker": {
             "colorbar": {
              "outlinewidth": 0,
              "ticks": ""
             }
            },
            "type": "scattergl"
           }
          ],
          "scattermapbox": [
           {
            "marker": {
             "colorbar": {
              "outlinewidth": 0,
              "ticks": ""
             }
            },
            "type": "scattermapbox"
           }
          ],
          "scatterpolar": [
           {
            "marker": {
             "colorbar": {
              "outlinewidth": 0,
              "ticks": ""
             }
            },
            "type": "scatterpolar"
           }
          ],
          "scatterpolargl": [
           {
            "marker": {
             "colorbar": {
              "outlinewidth": 0,
              "ticks": ""
             }
            },
            "type": "scatterpolargl"
           }
          ],
          "scatterternary": [
           {
            "marker": {
             "colorbar": {
              "outlinewidth": 0,
              "ticks": ""
             }
            },
            "type": "scatterternary"
           }
          ],
          "surface": [
           {
            "colorbar": {
             "outlinewidth": 0,
             "ticks": ""
            },
            "colorscale": [
             [
              0,
              "#0d0887"
             ],
             [
              0.1111111111111111,
              "#46039f"
             ],
             [
              0.2222222222222222,
              "#7201a8"
             ],
             [
              0.3333333333333333,
              "#9c179e"
             ],
             [
              0.4444444444444444,
              "#bd3786"
             ],
             [
              0.5555555555555556,
              "#d8576b"
             ],
             [
              0.6666666666666666,
              "#ed7953"
             ],
             [
              0.7777777777777778,
              "#fb9f3a"
             ],
             [
              0.8888888888888888,
              "#fdca26"
             ],
             [
              1,
              "#f0f921"
             ]
            ],
            "type": "surface"
           }
          ],
          "table": [
           {
            "cells": {
             "fill": {
              "color": "#EBF0F8"
             },
             "line": {
              "color": "white"
             }
            },
            "header": {
             "fill": {
              "color": "#C8D4E3"
             },
             "line": {
              "color": "white"
             }
            },
            "type": "table"
           }
          ]
         },
         "layout": {
          "annotationdefaults": {
           "arrowcolor": "#2a3f5f",
           "arrowhead": 0,
           "arrowwidth": 1
          },
          "autotypenumbers": "strict",
          "coloraxis": {
           "colorbar": {
            "outlinewidth": 0,
            "ticks": ""
           }
          },
          "colorscale": {
           "diverging": [
            [
             0,
             "#8e0152"
            ],
            [
             0.1,
             "#c51b7d"
            ],
            [
             0.2,
             "#de77ae"
            ],
            [
             0.3,
             "#f1b6da"
            ],
            [
             0.4,
             "#fde0ef"
            ],
            [
             0.5,
             "#f7f7f7"
            ],
            [
             0.6,
             "#e6f5d0"
            ],
            [
             0.7,
             "#b8e186"
            ],
            [
             0.8,
             "#7fbc41"
            ],
            [
             0.9,
             "#4d9221"
            ],
            [
             1,
             "#276419"
            ]
           ],
           "sequential": [
            [
             0,
             "#0d0887"
            ],
            [
             0.1111111111111111,
             "#46039f"
            ],
            [
             0.2222222222222222,
             "#7201a8"
            ],
            [
             0.3333333333333333,
             "#9c179e"
            ],
            [
             0.4444444444444444,
             "#bd3786"
            ],
            [
             0.5555555555555556,
             "#d8576b"
            ],
            [
             0.6666666666666666,
             "#ed7953"
            ],
            [
             0.7777777777777778,
             "#fb9f3a"
            ],
            [
             0.8888888888888888,
             "#fdca26"
            ],
            [
             1,
             "#f0f921"
            ]
           ],
           "sequentialminus": [
            [
             0,
             "#0d0887"
            ],
            [
             0.1111111111111111,
             "#46039f"
            ],
            [
             0.2222222222222222,
             "#7201a8"
            ],
            [
             0.3333333333333333,
             "#9c179e"
            ],
            [
             0.4444444444444444,
             "#bd3786"
            ],
            [
             0.5555555555555556,
             "#d8576b"
            ],
            [
             0.6666666666666666,
             "#ed7953"
            ],
            [
             0.7777777777777778,
             "#fb9f3a"
            ],
            [
             0.8888888888888888,
             "#fdca26"
            ],
            [
             1,
             "#f0f921"
            ]
           ]
          },
          "colorway": [
           "#636efa",
           "#EF553B",
           "#00cc96",
           "#ab63fa",
           "#FFA15A",
           "#19d3f3",
           "#FF6692",
           "#B6E880",
           "#FF97FF",
           "#FECB52"
          ],
          "font": {
           "color": "#2a3f5f"
          },
          "geo": {
           "bgcolor": "white",
           "lakecolor": "white",
           "landcolor": "#E5ECF6",
           "showlakes": true,
           "showland": true,
           "subunitcolor": "white"
          },
          "hoverlabel": {
           "align": "left"
          },
          "hovermode": "closest",
          "mapbox": {
           "style": "light"
          },
          "paper_bgcolor": "white",
          "plot_bgcolor": "#E5ECF6",
          "polar": {
           "angularaxis": {
            "gridcolor": "white",
            "linecolor": "white",
            "ticks": ""
           },
           "bgcolor": "#E5ECF6",
           "radialaxis": {
            "gridcolor": "white",
            "linecolor": "white",
            "ticks": ""
           }
          },
          "scene": {
           "xaxis": {
            "backgroundcolor": "#E5ECF6",
            "gridcolor": "white",
            "gridwidth": 2,
            "linecolor": "white",
            "showbackground": true,
            "ticks": "",
            "zerolinecolor": "white"
           },
           "yaxis": {
            "backgroundcolor": "#E5ECF6",
            "gridcolor": "white",
            "gridwidth": 2,
            "linecolor": "white",
            "showbackground": true,
            "ticks": "",
            "zerolinecolor": "white"
           },
           "zaxis": {
            "backgroundcolor": "#E5ECF6",
            "gridcolor": "white",
            "gridwidth": 2,
            "linecolor": "white",
            "showbackground": true,
            "ticks": "",
            "zerolinecolor": "white"
           }
          },
          "shapedefaults": {
           "line": {
            "color": "#2a3f5f"
           }
          },
          "ternary": {
           "aaxis": {
            "gridcolor": "white",
            "linecolor": "white",
            "ticks": ""
           },
           "baxis": {
            "gridcolor": "white",
            "linecolor": "white",
            "ticks": ""
           },
           "bgcolor": "#E5ECF6",
           "caxis": {
            "gridcolor": "white",
            "linecolor": "white",
            "ticks": ""
           }
          },
          "title": {
           "x": 0.05
          },
          "xaxis": {
           "automargin": true,
           "gridcolor": "white",
           "linecolor": "white",
           "ticks": "",
           "title": {
            "standoff": 15
           },
           "zerolinecolor": "white",
           "zerolinewidth": 2
          },
          "yaxis": {
           "automargin": true,
           "gridcolor": "white",
           "linecolor": "white",
           "ticks": "",
           "title": {
            "standoff": 15
           },
           "zerolinecolor": "white",
           "zerolinewidth": 2
          }
         }
        },
        "title": {
         "font": {
          "size": 20
         },
         "text": "2D Visualization of Clinical Trial Abstracts",
         "x": 0.5
        },
        "width": 800,
        "xaxis": {
         "anchor": "y",
         "domain": [
          0,
          1
         ],
         "showticklabels": false,
         "title": {
          "text": ""
         }
        },
        "yaxis": {
         "anchor": "x",
         "domain": [
          0,
          1
         ],
         "showticklabels": false,
         "title": {
          "text": ""
         }
        }
       }
      }
     },
     "metadata": {},
     "output_type": "display_data"
    }
   ],
   "source": [
    "# Create interactive plot with Plotly\n",
    "fig = px.scatter(df, x='t-SNE Dimension 1', y='t-SNE Dimension 2', color='Label', title='2D Visualization of Clinical Trial Abstracts')\n",
    "\n",
    "# Update the layout for better aesthetics and remove axis ticks\n",
    "fig.update_layout(\n",
    "    title_font_size=20,\n",
    "    title_x=0.5,\n",
    "    xaxis_title='',\n",
    "    yaxis_title='',\n",
    "    xaxis=dict(showticklabels=False),\n",
    "    yaxis=dict(showticklabels=False),\n",
    "    font=dict(size=14),\n",
    "    plot_bgcolor='rgba(0,0,0,0)',\n",
    "    paper_bgcolor='rgba(0,0,0,0)',\n",
    "    autosize=True,\n",
    "    width=800,\n",
    "    height=600,\n",
    "    legend=dict(title=\"Category\", orientation=\"h\", yanchor=\"bottom\", y=1.02, xanchor=\"right\", x=1)\n",
    ")\n",
    "\n",
    "# Show the plot\n",
    "fig.show()\n",
    "\n",
    "#pio.write_image(fig, 'tsne_visualization.png', scale=3)"
   ]
  },
  {
   "cell_type": "code",
   "execution_count": 3,
   "id": "29ce72c6",
   "metadata": {},
   "outputs": [
    {
     "ename": "ModuleNotFoundError",
     "evalue": "No module named 'seaborn'",
     "output_type": "error",
     "traceback": [
      "\u001b[1;31m---------------------------------------------------------------------------\u001b[0m",
      "\u001b[1;31mModuleNotFoundError\u001b[0m                       Traceback (most recent call last)",
      "Cell \u001b[1;32mIn[3], line 1\u001b[0m\n\u001b[1;32m----> 1\u001b[0m \u001b[38;5;28;01mimport\u001b[39;00m \u001b[38;5;21;01mseaborn\u001b[39;00m \u001b[38;5;28;01mas\u001b[39;00m \u001b[38;5;21;01msns\u001b[39;00m\n\u001b[0;32m      2\u001b[0m df \u001b[38;5;241m=\u001b[39m sns\u001b[38;5;241m.\u001b[39mload_dataset(\u001b[38;5;124m\"\u001b[39m\u001b[38;5;124mpenguins\u001b[39m\u001b[38;5;124m\"\u001b[39m)\n\u001b[0;32m      3\u001b[0m sns\u001b[38;5;241m.\u001b[39mpairplot(df, hue\u001b[38;5;241m=\u001b[39m\u001b[38;5;124m\"\u001b[39m\u001b[38;5;124mspecies\u001b[39m\u001b[38;5;124m\"\u001b[39m)\n",
      "\u001b[1;31mModuleNotFoundError\u001b[0m: No module named 'seaborn'"
     ]
    }
   ],
   "source": [
    "import seaborn as sns\n",
    "df = sns.load_dataset(\"penguins\")\n",
    "sns.pairplot(df, hue=\"species\")"
   ]
  },
  {
   "cell_type": "code",
   "execution_count": 37,
   "id": "b1cc1e1f-b7f8-4d50-8d24-f42c8c2d2fdd",
   "metadata": {},
   "outputs": [
    {
     "ename": "ModuleNotFoundError",
     "evalue": "No module named 'seaborn'",
     "output_type": "error",
     "traceback": [
      "\u001b[1;31m---------------------------------------------------------------------------\u001b[0m",
      "\u001b[1;31mModuleNotFoundError\u001b[0m                       Traceback (most recent call last)",
      "Cell \u001b[1;32mIn[37], line 2\u001b[0m\n\u001b[0;32m      1\u001b[0m \u001b[38;5;66;03m# Import seaborn\u001b[39;00m\n\u001b[1;32m----> 2\u001b[0m \u001b[38;5;28;01mimport\u001b[39;00m \u001b[38;5;21;01mseaborn\u001b[39;00m \u001b[38;5;28;01mas\u001b[39;00m \u001b[38;5;21;01msns\u001b[39;00m\n\u001b[0;32m      4\u001b[0m \u001b[38;5;66;03m# Apply the default theme\u001b[39;00m\n\u001b[0;32m      5\u001b[0m sns\u001b[38;5;241m.\u001b[39mset_theme()\n",
      "\u001b[1;31mModuleNotFoundError\u001b[0m: No module named 'seaborn'"
     ]
    }
   ],
   "source": [
    "# Import seaborn\n",
    "import seaborn as sns\n",
    "\n",
    "# Apply the default theme\n",
    "sns.set_theme()\n",
    "\n",
    "# Load an example dataset\n",
    "tips = sns.load_dataset(\"tips\")\n",
    "\n",
    "# Create a visualization\n",
    "sns.relplot(\n",
    "    data=tips,\n",
    "    x=\"total_bill\", y=\"tip\", col=\"time\",\n",
    "    hue=\"smoker\", style=\"smoker\", size=\"size\",\n",
    ")"
   ]
  },
  {
   "cell_type": "code",
   "execution_count": null,
   "id": "af4e7445-4c38-4978-a229-b296b8ed21b6",
   "metadata": {},
   "outputs": [],
   "source": []
  }
 ],
 "metadata": {
  "kernelspec": {
   "display_name": "Python 3 (ipykernel)",
   "language": "python",
   "name": "python3"
  },
  "language_info": {
   "codemirror_mode": {
    "name": "ipython",
    "version": 3
   },
   "file_extension": ".py",
   "mimetype": "text/x-python",
   "name": "python",
   "nbconvert_exporter": "python",
   "pygments_lexer": "ipython3",
   "version": "3.12.3"
  }
 },
 "nbformat": 4,
 "nbformat_minor": 5
}
