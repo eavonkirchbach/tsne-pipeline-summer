{
 "cells": [
  {
   "cell_type": "code",
   "execution_count": 1,
   "id": "ddbcb338-a66d-4e4d-828e-66d93c1908de",
   "metadata": {},
   "outputs": [],
   "source": [
    "# Install necessary packages\n",
    "#!pip install pytrials transformers sklearn matplotlib"
   ]
  },
  {
   "cell_type": "code",
   "execution_count": null,
   "id": "f006c1b3",
   "metadata": {},
   "outputs": [],
   "source": []
  },
  {
   "cell_type": "code",
   "execution_count": 2,
   "id": "b1ad0b93-7a81-41fd-ac47-5e09f0f2ab56",
   "metadata": {},
   "outputs": [],
   "source": [
    "# Import necessary libraries\n",
    "from pytrials.client import ClinicalTrials\n",
    "from transformers import AutoTokenizer, AutoModel\n",
    "import torch\n",
    "import numpy as np\n",
    "from sklearn.manifold import TSNE\n",
    "import matplotlib.pyplot as plt\n",
    "import plotly.express as px\n",
    "import plotly.io as pio"
   ]
  },
  {
   "cell_type": "code",
   "execution_count": 3,
   "id": "bcdf968e-294a-47ca-83ab-39f54410602f",
   "metadata": {},
   "outputs": [],
   "source": [
    "# Initialize ClinicalTrials client\n",
    "ct = ClinicalTrials()\n",
    "\n",
    "# Check valid fields\n",
    "#print(\"Valid fields:\", ct.study_fields[\"json\"])\n",
    "#print(ct.study_fields)"
   ]
  },
  {
   "cell_type": "code",
   "execution_count": 4,
   "id": "52201dfe-5f51-4897-88ba-c3590a47323e",
   "metadata": {},
   "outputs": [],
   "source": [
    "# Define a function to fetch clinical trial abstracts for given conditions\n",
    "def fetch_abstracts(conditions, max_results=1000):\n",
    "    abstracts = []\n",
    "    for condition in conditions:\n",
    "        results = ct.get_study_fields(\n",
    "            search_expr=condition, \n",
    "            fields=[\n",
    "                    #\"Study Title\",\n",
    "                    #\"Study Type\",\n",
    "                    \"Brief Summary\"\n",
    "            ],  # Add NCTId to see if BriefSummary is causing issues\n",
    "            max_studies=max_results # Ensure we don't request more than 1000 studies\n",
    "        )\n",
    "        abstracts.append(results)\n",
    "\n",
    "            \n",
    "    return abstracts"
   ]
  },
  {
   "cell_type": "code",
   "execution_count": 5,
   "id": "69e8d34d-806d-4c8e-8b3d-ffa10696f5ba",
   "metadata": {},
   "outputs": [],
   "source": [
    "# Fetch abstracts for a few popular clinical trial areas\n",
    "conditions = [\"Cancer+Oncology+Tumor+Neoplasm+Carcinoma+Malignancy\", # Cancer Keyword Collection\n",
    "              \"Diabetes+Diabetes Mellitus+Hyperglycemia+Insulin+Blood Sugar+Glucose\",  # Diabetes Keyword Collection\n",
    "              \"Coronavirus+COVID+SARS-CoV-2+Pandemic+Virus+Infection\" # COVID Keyword Collection\n",
    "             ]\n",
    "\n",
    "abstracts = fetch_abstracts(conditions,max_results=1000)"
   ]
  },
  {
   "cell_type": "code",
   "execution_count": 6,
   "id": "fc21ebad-9d35-4d65-b2a7-62335a774a6c",
   "metadata": {},
   "outputs": [
    {
     "name": "stdout",
     "output_type": "stream",
     "text": [
      "<class 'list'>\n",
      "3\n"
     ]
    }
   ],
   "source": [
    "#print(abstracts)\n",
    "print(type(abstracts))\n",
    "print(len(abstracts))\n",
    "#print(abstracts)"
   ]
  },
  {
   "cell_type": "code",
   "execution_count": 7,
   "id": "a5b758d3-9f1a-4229-a561-8fff8e6020ff",
   "metadata": {},
   "outputs": [],
   "source": [
    "abstracts_0 = abstracts[0]\n",
    "abstracts_1 = abstracts[1]\n",
    "abstracts_2 = abstracts[2]"
   ]
  },
  {
   "cell_type": "code",
   "execution_count": 8,
   "id": "4a2c08b9-8bb9-4817-8050-b90f9c357b74",
   "metadata": {},
   "outputs": [
    {
     "name": "stdout",
     "output_type": "stream",
     "text": [
      "1001\n",
      "1001\n",
      "1001\n"
     ]
    }
   ],
   "source": [
    "print(len(abstracts_0))\n",
    "print(len(abstracts_1))\n",
    "print(len(abstracts_2))"
   ]
  },
  {
   "cell_type": "code",
   "execution_count": 9,
   "id": "150b8138-11ba-4bf1-88d9-6c524066d1ec",
   "metadata": {},
   "outputs": [],
   "source": [
    "ab0 = abstracts_0[1:101]\n",
    "ab1 = abstracts_1[1:101]\n",
    "ab2 = abstracts_2[1:101]"
   ]
  },
  {
   "cell_type": "code",
   "execution_count": 10,
   "id": "87abd88c-276a-4556-bc2f-a6f4ede4572d",
   "metadata": {},
   "outputs": [
    {
     "data": {
      "text/plain": [
       "300"
      ]
     },
     "execution_count": 10,
     "metadata": {},
     "output_type": "execute_result"
    }
   ],
   "source": [
    "full_abs = ab0 + ab1 + ab2\n",
    "flattened_abs = [text for sublist in full_abs for text in sublist]\n",
    "len(flattened_abs)"
   ]
  },
  {
   "cell_type": "code",
   "execution_count": 11,
   "id": "fff474e7-db22-47d6-863a-d6e41c26eff0",
   "metadata": {},
   "outputs": [],
   "source": [
    "#partial_abs = ab0[0:10] + ab1[0:10] + ab2[0:10]\n",
    "#flattened_partial_abs = [text for sublist in partial_abs for text in sublist]\n",
    "#len(flattened_partial_abs)"
   ]
  },
  {
   "cell_type": "code",
   "execution_count": 12,
   "id": "9cf93ccc-923c-449a-b30f-dcd8ab7beafb",
   "metadata": {},
   "outputs": [],
   "source": [
    "# Load PubMedBERT model and tokenizer\n",
    "tokenizer = AutoTokenizer.from_pretrained(\"microsoft/BiomedNLP-PubMedBERT-base-uncased-abstract-fulltext\")\n",
    "model = AutoModel.from_pretrained(\"microsoft/BiomedNLP-PubMedBERT-base-uncased-abstract-fulltext\")"
   ]
  },
  {
   "cell_type": "code",
   "execution_count": 13,
   "id": "9ff7e7be-736b-46d0-8835-ed4f6a02c13d",
   "metadata": {},
   "outputs": [],
   "source": [
    "# Function to get embeddings from PubMedBERT\n",
    "def get_embeddings(texts, tokenizer, model):\n",
    "    inputs = tokenizer(texts, return_tensors=\"pt\", padding=True, truncation=True, max_length=512)\n",
    "    with torch.no_grad():\n",
    "        outputs = model(**inputs)\n",
    "    embeddings = outputs.last_hidden_state.mean(dim=1).numpy()\n",
    "    return embeddings"
   ]
  },
  {
   "cell_type": "code",
   "execution_count": 14,
   "id": "ab50e39c-d159-46be-b145-ef2d36f2c950",
   "metadata": {},
   "outputs": [],
   "source": [
    "from concurrent.futures import ThreadPoolExecutor, as_completed"
   ]
  },
  {
   "cell_type": "code",
   "execution_count": 15,
   "id": "641ebdc7-9c0e-489d-877b-13ccd109ff53",
   "metadata": {},
   "outputs": [],
   "source": [
    "# Ensure that the device is set to GPU if available, otherwise fallback to CPU\n",
    "device = torch.device(\"cuda\" if torch.cuda.is_available() else \"cpu\")\n",
    "\n",
    "# Function to process a single batch\n",
    "def process_batch(batch_texts, tokenizer, model, device):\n",
    "    inputs = tokenizer(batch_texts, return_tensors=\"pt\", padding=True, truncation=True, max_length=512).to(device)\n",
    "    with torch.no_grad():\n",
    "        outputs = model(**inputs)\n",
    "    batch_embeddings = outputs.last_hidden_state.mean(dim=1).cpu().numpy()\n",
    "    return batch_embeddings\n",
    "\n",
    "# Function to get embeddings from PubMedBERT in parallel\n",
    "def get_embeddings_parallel(texts, tokenizer, model, batch_size=8, num_workers=4):\n",
    "    # Split texts into batches\n",
    "    batches = [texts[i:i + batch_size] for i in range(0, len(texts), batch_size)]\n",
    "    \n",
    "    embeddings = []\n",
    "    with ThreadPoolExecutor(max_workers=num_workers) as executor:\n",
    "        # Submit tasks to the executor\n",
    "        future_to_batch = {executor.submit(process_batch, batch, tokenizer, model, device): batch for batch in batches}\n",
    "        \n",
    "        for future in as_completed(future_to_batch):\n",
    "            batch_embeddings = future.result()\n",
    "            embeddings.append(batch_embeddings)\n",
    "    \n",
    "    # Combine the embeddings from all batches\n",
    "    embeddings = np.vstack(embeddings)\n",
    "    return embeddings\n"
   ]
  },
  {
   "cell_type": "code",
   "execution_count": 16,
   "id": "bfe17edf-bf0a-4c07-9844-b81ea582554c",
   "metadata": {},
   "outputs": [],
   "source": [
    "# Get embeddings for the abstracts\n",
    "# Erika's note: took 5 min for this to load.. any way to make it faster?\n",
    "embeddings = get_embeddings_parallel(flattened_abs, tokenizer, model, batch_size=8, num_workers=6)"
   ]
  },
  {
   "cell_type": "code",
   "execution_count": 17,
   "id": "bbcb2783-b89d-4303-989e-996561a95988",
   "metadata": {},
   "outputs": [],
   "source": [
    "# Adjust perplexity to be less than the number of samples\n",
    "perplexity_value = min(embeddings.shape[0] - 1, 30)  # Use the minimum of number of samples - 1 or 30\n",
    "\n",
    "# Use t-SNE to reduce dimensionality to 2D\n",
    "tsne = TSNE(n_components=2, random_state=42, perplexity=perplexity_value)\n",
    "embeddings_2d = tsne.fit_transform(embeddings)"
   ]
  },
  {
   "cell_type": "code",
   "execution_count": 18,
   "id": "aa94e570-6723-47b8-aac8-3be07c587bb9",
   "metadata": {},
   "outputs": [
    {
     "data": {
      "image/png": "[encoded data removed]",
      "text/plain": [
       "<Figure size 1000x800 with 1 Axes>"
      ]
     },
     "metadata": {},
     "output_type": "display_data"
    }
   ],
   "source": [
    "# Plot the 2D embeddings\n",
    "plt.figure(figsize=(10, 8))\n",
    "plt.scatter(embeddings_2d[:, 0], embeddings_2d[:, 1], alpha=0.5)\n",
    "plt.title(\"2D Visualization of Clinical Trial Abstracts\")\n",
    "plt.xlabel(\"t-SNE Dimension 1\")\n",
    "plt.ylabel(\"t-SNE Dimension 2\")\n",
    "plt.show()"
   ]
  },
  {
   "cell_type": "code",
   "execution_count": 19,
   "id": "7f2b48db-6e88-4c6c-b22b-03e6e213b66a",
   "metadata": {},
   "outputs": [],
   "source": [
    "# Create labels for the points\n",
    "num_samples = embeddings.shape[0]\n",
    "labels = ['Cancer'] * (num_samples // 3) + ['Diabetes'] * (num_samples // 3) + ['COVID related'] * (num_samples - 2 * (num_samples // 3))"
   ]
  },
  {
   "cell_type": "code",
   "execution_count": 20,
   "id": "54e49f48-ff74-430b-8d08-3d68afabc1dc",
   "metadata": {},
   "outputs": [
    {
     "data": {
      "text/plain": [
       "300"
      ]
     },
     "execution_count": 20,
     "metadata": {},
     "output_type": "execute_result"
    }
   ],
   "source": [
    "len(labels)"
   ]
  },
  {
   "cell_type": "code",
   "execution_count": 21,
   "id": "41051e02-a814-4c82-8241-9335d925054c",
   "metadata": {},
   "outputs": [],
   "source": [
    "# Create a DataFrame for Plotly\n",
    "import pandas as pd\n",
    "df = pd.DataFrame({\n",
    "    't-SNE Dimension 1': embeddings_2d[:, 0],\n",
    "    't-SNE Dimension 2': embeddings_2d[:, 1],\n",
    "    'Label': labels\n",
    "})"
   ]
  },
  {
   "cell_type": "code",
   "execution_count": 22,
   "id": "1f0d0176-a2e0-4473-86b7-c02ce977ad74",
   "metadata": {},
   "outputs": [
    {
     "data": {
      "application/vnd.plotly.v1+json": {
       "config": {
        "plotlyServerURL": "https://plot.ly"
       },
       "data": [
        {
         "hovertemplate": "Label=Cancer<br>t-SNE Dimension 1=%{x}<br>t-SNE Dimension 2=%{y}<extra></extra>",
         "legendgroup": "Cancer",
         "marker": {
          "color": "#636efa",
          "symbol": "circle"
         },
         "mode": "markers",
         "name": "Cancer",
         "orientation": "v",
         "showlegend": true,
         "type": "scatter",
         "x": [
          10.612712860107422,
          6.491123199462891,
          8.342103004455566,
          10.355299949645996,
          -24.38496971130371,
          7.654699802398682,
          -25.967496871948242,
          7.14119291305542,
          -27.175264358520508,
          3.584911823272705,
          6.445644855499268,
          2.762089490890503,
          6.8385491371154785,
          6.076655387878418,
          2.236021041870117,
          -11.125224113464355,
          4.906998157501221,
          -26.36385154724121,
          7.177382469177246,
          -5.162249565124512,
          13.978811264038086,
          3.4366395473480225,
          -1.488946795463562,
          -12.148699760437012,
          -3.992431163787842,
          6.918919086456299,
          -12.285930633544922,
          -9.007279396057129,
          8.18627643585205,
          -29.375919342041016,
          5.372246265411377,
          10.324830055236816,
          11.550654411315918,
          6.444597244262695,
          11.721427917480469,
          10.691695213317871,
          -24.8232479095459,
          10.48323917388916,
          8.060779571533203,
          8.219566345214844,
          -29.988496780395508,
          10.53670883178711,
          8.00001049041748,
          4.329037189483643,
          10.283517837524414,
          7.605780124664307,
          9.121152877807617,
          12.29594898223877,
          3.821842670440674,
          -28.46133041381836,
          3.167874813079834,
          -9.425500869750977,
          -0.19375713169574738,
          4.23927116394043,
          2.7067489624023438,
          4.027554988861084,
          8.026309967041016,
          -29.02460479736328,
          8.198830604553223,
          1.1006442308425903,
          7.139062881469727,
          5.06018590927124,
          9.576828956604004,
          8.533333778381348,
          -10.553728103637695,
          4.7565202713012695,
          -1.6394484043121338,
          2.704437494277954,
          -18.846675872802734,
          -29.13673210144043,
          -2.5826737880706787,
          3.954620838165283,
          -26.53314208984375,
          4.432642459869385,
          13.497145652770996,
          5.824220180511475,
          5.6855082511901855,
          9.24803638458252,
          12.96528148651123,
          5.734704494476318,
          7.190856456756592,
          -26.586698532104492,
          11.717397689819336,
          -25.113035202026367,
          -11.019830703735352,
          13.422713279724121,
          10.040568351745605,
          9.165507316589355,
          6.493849754333496,
          9.777254104614258,
          12.422039031982422,
          -25.357263565063477,
          5.764541149139404,
          0.7586097717285156,
          7.821974754333496,
          11.272211074829102,
          11.887410163879395,
          6.678732395172119,
          5.927402019500732,
          0.3034024238586426
         ],
         "xaxis": "x",
         "y": [
          9.457547187805176,
          5.920216083526611,
          12.34798812866211,
          14.215643882751465,
          2.9473228454589844,
          2.515104055404663,
          0.10805661976337433,
          2.3190081119537354,
          1.632780909538269,
          11.567471504211426,
          9.81403636932373,
          9.988895416259766,
          7.73676061630249,
          11.333518028259277,
          7.433234691619873,
          3.7226459980010986,
          9.018441200256348,
          -3.920318603515625,
          7.674581050872803,
          -0.7972911596298218,
          10.507389068603516,
          14.04799747467041,
          -9.681159973144531,
          3.7107303142547607,
          0.22881977260112762,
          12.912446022033691,
          -2.0207159519195557,
          3.4103918075561523,
          6.907124042510986,
          -1.4609853029251099,
          2.7921817302703857,
          11.636943817138672,
          8.542327880859375,
          14.690443992614746,
          -6.688967704772949,
          7.850574016571045,
          1.6850905418395996,
          9.233654975891113,
          12.70320987701416,
          10.710733413696289,
          -0.5544481873512268,
          13.073051452636719,
          6.03983736038208,
          4.427652359008789,
          7.146388530731201,
          15.02092456817627,
          6.590475082397461,
          5.374472618103027,
          11.305157661437988,
          -3.6239635944366455,
          8.314863204956055,
          5.139414310455322,
          9.359153747558594,
          9.88239860534668,
          7.557636260986328,
          13.844694137573242,
          8.996060371398926,
          -0.777043879032135,
          8.751741409301758,
          10.542516708374023,
          6.557361125946045,
          0.03001757338643074,
          12.307753562927246,
          13.711674690246582,
          3.873706340789795,
          11.042757034301758,
          9.074341773986816,
          11.146773338317871,
          0.6474645137786865,
          -3.1748385429382324,
          9.053467750549316,
          13.00792407989502,
          0.645206093788147,
          6.177440643310547,
          9.943299293518066,
          5.739283084869385,
          5.78938627243042,
          6.479382038116455,
          6.271716117858887,
          14.324252128601074,
          12.38454532623291,
          3.2421481609344482,
          4.702144622802734,
          2.080857992172241,
          2.9568755626678467,
          9.538460731506348,
          10.031525611877441,
          11.879911422729492,
          13.573240280151367,
          5.688215732574463,
          7.934438228607178,
          0.8628379702568054,
          5.356000900268555,
          8.90489387512207,
          14.129476547241211,
          3.6269285678863525,
          8.381705284118652,
          11.624154090881348,
          15.246472358703613,
          10.18490982055664
         ],
         "yaxis": "y"
        },
        {
         "hovertemplate": "Label=Diabetes<br>t-SNE Dimension 1=%{x}<br>t-SNE Dimension 2=%{y}<extra></extra>",
         "legendgroup": "Diabetes",
         "marker": {
          "color": "#EF553B",
          "symbol": "circle"
         },
         "mode": "markers",
         "name": "Diabetes",
         "orientation": "v",
         "showlegend": true,
         "type": "scatter",
         "x": [
          14.832122802734375,
          -26.586780548095703,
          -1.7504210472106934,
          -20.96411895751953,
          -9.634933471679688,
          -6.971821308135986,
          -20.810226440429688,
          17.819766998291016,
          14.984282493591309,
          -25.417755126953125,
          15.879602432250977,
          -2.6309397220611572,
          -7.481386184692383,
          17.57227897644043,
          -30.8124942779541,
          -0.801275908946991,
          15.40641975402832,
          12.542292594909668,
          -28.458345413208008,
          9.131000518798828,
          -26.151630401611328,
          16.67333221435547,
          14.659303665161133,
          -7.997314929962158,
          -27.236602783203125,
          -0.915924608707428,
          12.527478218078613,
          10.026049613952637,
          -28.9813232421875,
          -8.657086372375488,
          -12.25352954864502,
          17.706985473632812,
          11.46077823638916,
          11.266823768615723,
          14.44883918762207,
          6.435035228729248,
          11.029401779174805,
          14.90642261505127,
          17.717519760131836,
          -26.100955963134766,
          13.446715354919434,
          13.712676048278809,
          7.093334674835205,
          17.033674240112305,
          -10.51148509979248,
          -28.794370651245117,
          0.6280969381332397,
          5.51938533782959,
          -8.358407020568848,
          16.966346740722656,
          12.599383354187012,
          -4.400249481201172,
          -2.1648173332214355,
          -10.37559986114502,
          0.5988647937774658,
          1.48273503780365,
          2.239010810852051,
          -9.108720779418945,
          -0.46200400590896606,
          -28.359575271606445,
          -8.163175582885742,
          16.62248992919922,
          7.5732421875,
          -3.1502456665039062,
          5.21491813659668,
          7.802811622619629,
          -5.205885887145996,
          -27.901554107666016,
          -6.807493209838867,
          14.697222709655762,
          15.636219024658203,
          -13.921545028686523,
          -2.855011224746704,
          -9.340652465820312,
          -30.09360694885254,
          -5.891247749328613,
          13.202262878417969,
          -26.903011322021484,
          18.119220733642578,
          -8.181057929992676,
          -4.207488059997559,
          16.685317993164062,
          10.34327220916748,
          -3.755293607711792,
          12.817543983459473,
          -7.308586597442627,
          -6.064478874206543,
          -27.75963020324707,
          9.828420639038086,
          -7.242625713348389,
          -9.955931663513184,
          -12.387826919555664,
          6.607797622680664,
          -2.7826735973358154,
          9.761474609375,
          8.633952140808105,
          2.546694040298462,
          3.4949982166290283,
          -2.989675521850586,
          -22.19487953186035
         ],
         "xaxis": "x",
         "y": [
          -1.0608733892440796,
          -2.454989433288574,
          0.9464454054832458,
          1.7776132822036743,
          0.23111079633235931,
          3.0821244716644287,
          1.0328938961029053,
          -4.623076438903809,
          2.0594239234924316,
          -0.8475475907325745,
          1.259904146194458,
          3.4318838119506836,
          3.176265001296997,
          -1.8111759424209595,
          -0.31191307306289673,
          -2.5019586086273193,
          1.420001745223999,
          1.372110366821289,
          0.12740512192249298,
          1.7951645851135254,
          -0.6351301670074463,
          -0.9159091711044312,
          -2.127192497253418,
          1.744002342224121,
          -1.2760671377182007,
          2.831859827041626,
          0.8497503995895386,
          0.5636587142944336,
          0.02145448885858059,
          0.9539434313774109,
          0.500905454158783,
          1.174504280090332,
          -2.3624322414398193,
          -0.5773053765296936,
          -3.031383752822876,
          0.9353432059288025,
          -2.177670955657959,
          -3.657827615737915,
          -3.8515782356262207,
          -1.625012755393982,
          -6.314482688903809,
          -2.267677068710327,
          -1.0682029724121094,
          1.0365575551986694,
          1.5295166969299316,
          1.237307071685791,
          0.7509626746177673,
          -0.6854591369628906,
          1.7319904565811157,
          -1.806056261062622,
          -0.5722822546958923,
          0.9020839929580688,
          -0.6423160433769226,
          0.10285448282957077,
          0.4161337614059448,
          0.20478956401348114,
          -0.04254372417926788,
          2.087345838546753,
          0.3890560269355774,
          -0.22443893551826477,
          2.4050352573394775,
          1.2045255899429321,
          -0.8732368350028992,
          2.0760161876678467,
          -1.3010836839675903,
          1.2746354341506958,
          2.199636936187744,
          -1.8478403091430664,
          1.2218413352966309,
          -1.480465292930603,
          -1.9086896181106567,
          0.7581743001937866,
          1.2973822355270386,
          -0.3487134873867035,
          0.9240624308586121,
          0.3802323341369629,
          -2.716653823852539,
          -1.3449628353118896,
          2.4435102939605713,
          -0.3050680458545685,
          -2.205808401107788,
          -1.7509348392486572,
          -2.514204263687134,
          2.843996286392212,
          -3.383373737335205,
          -0.15237492322921753,
          1.5193772315979004,
          0.8695672154426575,
          -0.5032155513763428,
          2.1952154636383057,
          1.8442856073379517,
          1.333815097808838,
          -9.218655586242676,
          -4.796111106872559,
          -7.375347137451172,
          -5.238091468811035,
          -7.672303199768066,
          -9.896601676940918,
          -6.797017574310303,
          -0.6260712742805481
         ],
         "yaxis": "y"
        },
        {
         "hovertemplate": "Label=COVID related<br>t-SNE Dimension 1=%{x}<br>t-SNE Dimension 2=%{y}<extra></extra>",
         "legendgroup": "COVID related",
         "marker": {
          "color": "#00cc96",
          "symbol": "circle"
         },
         "mode": "markers",
         "name": "COVID related",
         "orientation": "v",
         "showlegend": true,
         "type": "scatter",
         "x": [
          12.381400108337402,
          -12.94258975982666,
          -3.5700511932373047,
          -4.302783966064453,
          13.610648155212402,
          -10.448647499084473,
          10.142459869384766,
          -29.975271224975586,
          -4.622518539428711,
          18.745418548583984,
          -7.036937713623047,
          -6.990855693817139,
          9.5416259765625,
          -23.900588989257812,
          -23.578224182128906,
          -7.013254165649414,
          -0.12753894925117493,
          -23.290407180786133,
          6.966280937194824,
          -2.7119622230529785,
          -1.3687989711761475,
          5.410200119018555,
          8.2664794921875,
          -10.426714897155762,
          -1.9929543733596802,
          -20.361095428466797,
          -3.5675601959228516,
          -2.804896354675293,
          7.649760723114014,
          -10.586834907531738,
          18.682966232299805,
          -24.887662887573242,
          -20.869140625,
          2.2008254528045654,
          -9.967399597167969,
          -9.337906837463379,
          -24.772817611694336,
          -24.820344924926758,
          -23.922016143798828,
          -28.698589324951172,
          4.164853572845459,
          -23.04488182067871,
          2.9992284774780273,
          -8.515312194824219,
          -9.982941627502441,
          9.002108573913574,
          0.26693543791770935,
          10.69797420501709,
          -4.075878143310547,
          -22.97731590270996,
          8.720697402954102,
          -7.407207489013672,
          6.311629295349121,
          6.55024528503418,
          8.531523704528809,
          -3.2026922702789307,
          4.76377534866333,
          5.867954730987549,
          -23.40314292907715,
          -1.9860985279083252,
          -10.189324378967285,
          5.540379524230957,
          -2.3144280910491943,
          1.0094597339630127,
          -10.83382797241211,
          -24.21503257751465,
          11.561929702758789,
          -22.79703140258789,
          11.297593116760254,
          -21.234542846679688,
          10.527122497558594,
          4.784088611602783,
          7.464828968048096,
          1.1588183641433716,
          -24.443822860717773,
          6.125170707702637,
          1.3830896615982056,
          -24.16846466064453,
          18.610803604125977,
          3.4263174533843994,
          -1.4796422719955444,
          2.3422012329101562,
          -0.43246525526046753,
          18.69083595275879,
          5.545322418212891,
          -7.671563148498535,
          4.934952259063721,
          -11.722894668579102,
          -1.1559138298034668,
          -23.570024490356445,
          -19.16438865661621,
          -0.1563139706850052,
          -2.047877788543701,
          -22.484689712524414,
          7.058426856994629,
          8.897313117980957,
          7.465281009674072,
          2.7913663387298584,
          0.33016887307167053,
          -24.693220138549805
         ],
         "xaxis": "x",
         "y": [
          -0.6843035817146301,
          1.3185663223266602,
          2.837400197982788,
          -2.0062255859375,
          -0.2763586640357971,
          0.978754460811615,
          -1.5489188432693481,
          0.6794392466545105,
          -6.753459453582764,
          4.690823078155518,
          -3.1911940574645996,
          -2.7038567066192627,
          -6.395258903503418,
          -1.6205312013626099,
          -2.047097682952881,
          -2.921279191970825,
          -3.512847423553467,
          -3.229800224304199,
          -5.7594075202941895,
          -2.75077223777771,
          -5.776440143585205,
          -6.732291221618652,
          -7.570037841796875,
          -3.4075067043304443,
          -6.536941051483154,
          -1.7917909622192383,
          -4.196195602416992,
          -3.5768086910247803,
          -10.636309623718262,
          -4.502712726593018,
          -1.9845504760742188,
          -2.8102309703826904,
          -1.2006657123565674,
          -4.3590006828308105,
          -3.7541067600250244,
          -4.636858940124512,
          -0.1662854552268982,
          -1.6227394342422485,
          0.5474118590354919,
          2.318929433822632,
          -8.476171493530273,
          -1.3461484909057617,
          -9.4808988571167,
          -5.700021743774414,
          -2.9682044982910156,
          -7.952073574066162,
          -4.274792194366455,
          -6.2845282554626465,
          -5.577643871307373,
          -0.17111507058143616,
          -3.0253453254699707,
          -5.242906093597412,
          -7.44293212890625,
          -5.022407054901123,
          -6.136451244354248,
          -6.179078102111816,
          -6.61467170715332,
          -6.456799507141113,
          -0.7161643505096436,
          -4.289970874786377,
          -4.359099864959717,
          -7.932114601135254,
          -6.379973411560059,
          -7.455942630767822,
          -3.792179822921753,
          0.12887664139270782,
          -4.9847846031188965,
          1.2689924240112305,
          -8.112733840942383,
          -1.145076036453247,
          -5.331847667694092,
          -7.703860282897949,
          -10.40737247467041,
          -2.9812138080596924,
          -3.002033233642578,
          -6.781891345977783,
          -6.53653621673584,
          -0.9256497025489807,
          3.7390835285186768,
          -7.222146987915039,
          -4.975978374481201,
          -9.582945823669434,
          -5.599311828613281,
          4.028603553771973,
          -3.0420608520507812,
          -2.874786853790283,
          -5.700913906097412,
          -4.484556198120117,
          -3.6315412521362305,
          1.4428784847259521,
          -1.6320738792419434,
          -6.707805633544922,
          -4.383829116821289,
          -2.4096312522888184,
          -2.231081485748291,
          -3.4873180389404297,
          -6.93600606918335,
          -4.61044454574585,
          -5.633796691894531,
          -1.2745634317398071
         ],
         "yaxis": "y"
        }
       ],
       "layout": {
        "autosize": true,
        "font": {
         "size": 14
        },
        "height": 600,
        "legend": {
         "orientation": "h",
         "title": {
          "text": "Category"
         },
         "tracegroupgap": 0,
         "x": 1,
         "xanchor": "right",
         "y": 1.02,
         "yanchor": "bottom"
        },
        "paper_bgcolor": "rgba(0,0,0,0)",
        "plot_bgcolor": "rgba(0,0,0,0)",
        "template": {
         "data": {
          "bar": [
           {
            "error_x": {
             "color": "#2a3f5f"
            },
            "error_y": {
             "color": "#2a3f5f"
            },
            "marker": {
             "line": {
              "color": "#E5ECF6",
              "width": 0.5
             },
             "pattern": {
              "fillmode": "overlay",
              "size": 10,
              "solidity": 0.2
             }
            },
            "type": "bar"
           }
          ],
          "barpolar": [
           {
            "marker": {
             "line": {
              "color": "#E5ECF6",
              "width": 0.5
             },
             "pattern": {
              "fillmode": "overlay",
              "size": 10,
              "solidity": 0.2
             }
            },
            "type": "barpolar"
           }
          ],
          "carpet": [
           {
            "aaxis": {
             "endlinecolor": "#2a3f5f",
             "gridcolor": "white",
             "linecolor": "white",
             "minorgridcolor": "white",
             "startlinecolor": "#2a3f5f"
            },
            "baxis": {
             "endlinecolor": "#2a3f5f",
             "gridcolor": "white",
             "linecolor": "white",
             "minorgridcolor": "white",
             "startlinecolor": "#2a3f5f"
            },
            "type": "carpet"
           }
          ],
          "choropleth": [
           {
            "colorbar": {
             "outlinewidth": 0,
             "ticks": ""
            },
            "type": "choropleth"
           }
          ],
          "contour": [
           {
            "colorbar": {
             "outlinewidth": 0,
             "ticks": ""
            },
            "colorscale": [
             [
              0,
              "#0d0887"
             ],
             [
              0.1111111111111111,
              "#46039f"
             ],
             [
              0.2222222222222222,
              "#7201a8"
             ],
             [
              0.3333333333333333,
              "#9c179e"
             ],
             [
              0.4444444444444444,
              "#bd3786"
             ],
             [
              0.5555555555555556,
              "#d8576b"
             ],
             [
              0.6666666666666666,
              "#ed7953"
             ],
             [
              0.7777777777777778,
              "#fb9f3a"
             ],
             [
              0.8888888888888888,
              "#fdca26"
             ],
             [
              1,
              "#f0f921"
             ]
            ],
            "type": "contour"
           }
          ],
          "contourcarpet": [
           {
            "colorbar": {
             "outlinewidth": 0,
             "ticks": ""
            },
            "type": "contourcarpet"
           }
          ],
          "heatmap": [
           {
            "colorbar": {
             "outlinewidth": 0,
             "ticks": ""
            },
            "colorscale": [
             [
              0,
              "#0d0887"
             ],
             [
              0.1111111111111111,
              "#46039f"
             ],
             [
              0.2222222222222222,
              "#7201a8"
             ],
             [
              0.3333333333333333,
              "#9c179e"
             ],
             [
              0.4444444444444444,
              "#bd3786"
             ],
             [
              0.5555555555555556,
              "#d8576b"
             ],
             [
              0.6666666666666666,
              "#ed7953"
             ],
             [
              0.7777777777777778,
              "#fb9f3a"
             ],
             [
              0.8888888888888888,
              "#fdca26"
             ],
             [
              1,
              "#f0f921"
             ]
            ],
            "type": "heatmap"
           }
          ],
          "heatmapgl": [
           {
            "colorbar": {
             "outlinewidth": 0,
             "ticks": ""
            },
            "colorscale": [
             [
              0,
              "#0d0887"
             ],
             [
              0.1111111111111111,
              "#46039f"
             ],
             [
              0.2222222222222222,
              "#7201a8"
             ],
             [
              0.3333333333333333,
              "#9c179e"
             ],
             [
              0.4444444444444444,
              "#bd3786"
             ],
             [
              0.5555555555555556,
              "#d8576b"
             ],
             [
              0.6666666666666666,
              "#ed7953"
             ],
             [
              0.7777777777777778,
              "#fb9f3a"
             ],
             [
              0.8888888888888888,
              "#fdca26"
             ],
             [
              1,
              "#f0f921"
             ]
            ],
            "type": "heatmapgl"
           }
          ],
          "histogram": [
           {
            "marker": {
             "pattern": {
              "fillmode": "overlay",
              "size": 10,
              "solidity": 0.2
             }
            },
            "type": "histogram"
           }
          ],
          "histogram2d": [
           {
            "colorbar": {
             "outlinewidth": 0,
             "ticks": ""
            },
            "colorscale": [
             [
              0,
              "#0d0887"
             ],
             [
              0.1111111111111111,
              "#46039f"
             ],
             [
              0.2222222222222222,
              "#7201a8"
             ],
             [
              0.3333333333333333,
              "#9c179e"
             ],
             [
              0.4444444444444444,
              "#bd3786"
             ],
             [
              0.5555555555555556,
              "#d8576b"
             ],
             [
              0.6666666666666666,
              "#ed7953"
             ],
             [
              0.7777777777777778,
              "#fb9f3a"
             ],
             [
              0.8888888888888888,
              "#fdca26"
             ],
             [
              1,
              "#f0f921"
             ]
            ],
            "type": "histogram2d"
           }
          ],
          "histogram2dcontour": [
           {
            "colorbar": {
             "outlinewidth": 0,
             "ticks": ""
            },
            "colorscale": [
             [
              0,
              "#0d0887"
             ],
             [
              0.1111111111111111,
              "#46039f"
             ],
             [
              0.2222222222222222,
              "#7201a8"
             ],
             [
              0.3333333333333333,
              "#9c179e"
             ],
             [
              0.4444444444444444,
              "#bd3786"
             ],
             [
              0.5555555555555556,
              "#d8576b"
             ],
             [
              0.6666666666666666,
              "#ed7953"
             ],
             [
              0.7777777777777778,
              "#fb9f3a"
             ],
             [
              0.8888888888888888,
              "#fdca26"
             ],
             [
              1,
              "#f0f921"
             ]
            ],
            "type": "histogram2dcontour"
           }
          ],
          "mesh3d": [
           {
            "colorbar": {
             "outlinewidth": 0,
             "ticks": ""
            },
            "type": "mesh3d"
           }
          ],
          "parcoords": [
           {
            "line": {
             "colorbar": {
              "outlinewidth": 0,
              "ticks": ""
             }
            },
            "type": "parcoords"
           }
          ],
          "pie": [
           {
            "automargin": true,
            "type": "pie"
           }
          ],
          "scatter": [
           {
            "fillpattern": {
             "fillmode": "overlay",
             "size": 10,
             "solidity": 0.2
            },
            "type": "scatter"
           }
          ],
          "scatter3d": [
           {
            "line": {
             "colorbar": {
              "outlinewidth": 0,
              "ticks": ""
             }
            },
            "marker": {
             "colorbar": {
              "outlinewidth": 0,
              "ticks": ""
             }
            },
            "type": "scatter3d"
           }
          ],
          "scattercarpet": [
           {
            "marker": {
             "colorbar": {
              "outlinewidth": 0,
              "ticks": ""
             }
            },
            "type": "scattercarpet"
           }
          ],
          "scattergeo": [
           {
            "marker": {
             "colorbar": {
              "outlinewidth": 0,
              "ticks": ""
             }
            },
            "type": "scattergeo"
           }
          ],
          "scattergl": [
           {
            "marker": {
             "colorbar": {
              "outlinewidth": 0,
              "ticks": ""
             }
            },
            "type": "scattergl"
           }
          ],
          "scattermapbox": [
           {
            "marker": {
             "colorbar": {
              "outlinewidth": 0,
              "ticks": ""
             }
            },
            "type": "scattermapbox"
           }
          ],
          "scatterpolar": [
           {
            "marker": {
             "colorbar": {
              "outlinewidth": 0,
              "ticks": ""
             }
            },
            "type": "scatterpolar"
           }
          ],
          "scatterpolargl": [
           {
            "marker": {
             "colorbar": {
              "outlinewidth": 0,
              "ticks": ""
             }
            },
            "type": "scatterpolargl"
           }
          ],
          "scatterternary": [
           {
            "marker": {
             "colorbar": {
              "outlinewidth": 0,
              "ticks": ""
             }
            },
            "type": "scatterternary"
           }
          ],
          "surface": [
           {
            "colorbar": {
             "outlinewidth": 0,
             "ticks": ""
            },
            "colorscale": [
             [
              0,
              "#0d0887"
             ],
             [
              0.1111111111111111,
              "#46039f"
             ],
             [
              0.2222222222222222,
              "#7201a8"
             ],
             [
              0.3333333333333333,
              "#9c179e"
             ],
             [
              0.4444444444444444,
              "#bd3786"
             ],
             [
              0.5555555555555556,
              "#d8576b"
             ],
             [
              0.6666666666666666,
              "#ed7953"
             ],
             [
              0.7777777777777778,
              "#fb9f3a"
             ],
             [
              0.8888888888888888,
              "#fdca26"
             ],
             [
              1,
              "#f0f921"
             ]
            ],
            "type": "surface"
           }
          ],
          "table": [
           {
            "cells": {
             "fill": {
              "color": "#EBF0F8"
             },
             "line": {
              "color": "white"
             }
            },
            "header": {
             "fill": {
              "color": "#C8D4E3"
             },
             "line": {
              "color": "white"
             }
            },
            "type": "table"
           }
          ]
         },
         "layout": {
          "annotationdefaults": {
           "arrowcolor": "#2a3f5f",
           "arrowhead": 0,
           "arrowwidth": 1
          },
          "autotypenumbers": "strict",
          "coloraxis": {
           "colorbar": {
            "outlinewidth": 0,
            "ticks": ""
           }
          },
          "colorscale": {
           "diverging": [
            [
             0,
             "#8e0152"
            ],
            [
             0.1,
             "#c51b7d"
            ],
            [
             0.2,
             "#de77ae"
            ],
            [
             0.3,
             "#f1b6da"
            ],
            [
             0.4,
             "#fde0ef"
            ],
            [
             0.5,
             "#f7f7f7"
            ],
            [
             0.6,
             "#e6f5d0"
            ],
            [
             0.7,
             "#b8e186"
            ],
            [
             0.8,
             "#7fbc41"
            ],
            [
             0.9,
             "#4d9221"
            ],
            [
             1,
             "#276419"
            ]
           ],
           "sequential": [
            [
             0,
             "#0d0887"
            ],
            [
             0.1111111111111111,
             "#46039f"
            ],
            [
             0.2222222222222222,
             "#7201a8"
            ],
            [
             0.3333333333333333,
             "#9c179e"
            ],
            [
             0.4444444444444444,
             "#bd3786"
            ],
            [
             0.5555555555555556,
             "#d8576b"
            ],
            [
             0.6666666666666666,
             "#ed7953"
            ],
            [
             0.7777777777777778,
             "#fb9f3a"
            ],
            [
             0.8888888888888888,
             "#fdca26"
            ],
            [
             1,
             "#f0f921"
            ]
           ],
           "sequentialminus": [
            [
             0,
             "#0d0887"
            ],
            [
             0.1111111111111111,
             "#46039f"
            ],
            [
             0.2222222222222222,
             "#7201a8"
            ],
            [
             0.3333333333333333,
             "#9c179e"
            ],
            [
             0.4444444444444444,
             "#bd3786"
            ],
            [
             0.5555555555555556,
             "#d8576b"
            ],
            [
             0.6666666666666666,
             "#ed7953"
            ],
            [
             0.7777777777777778,
             "#fb9f3a"
            ],
            [
             0.8888888888888888,
             "#fdca26"
            ],
            [
             1,
             "#f0f921"
            ]
           ]
          },
          "colorway": [
           "#636efa",
           "#EF553B",
           "#00cc96",
           "#ab63fa",
           "#FFA15A",
           "#19d3f3",
           "#FF6692",
           "#B6E880",
           "#FF97FF",
           "#FECB52"
          ],
          "font": {
           "color": "#2a3f5f"
          },
          "geo": {
           "bgcolor": "white",
           "lakecolor": "white",
           "landcolor": "#E5ECF6",
           "showlakes": true,
           "showland": true,
           "subunitcolor": "white"
          },
          "hoverlabel": {
           "align": "left"
          },
          "hovermode": "closest",
          "mapbox": {
           "style": "light"
          },
          "paper_bgcolor": "white",
          "plot_bgcolor": "#E5ECF6",
          "polar": {
           "angularaxis": {
            "gridcolor": "white",
            "linecolor": "white",
            "ticks": ""
           },
           "bgcolor": "#E5ECF6",
           "radialaxis": {
            "gridcolor": "white",
            "linecolor": "white",
            "ticks": ""
           }
          },
          "scene": {
           "xaxis": {
            "backgroundcolor": "#E5ECF6",
            "gridcolor": "white",
            "gridwidth": 2,
            "linecolor": "white",
            "showbackground": true,
            "ticks": "",
            "zerolinecolor": "white"
           },
           "yaxis": {
            "backgroundcolor": "#E5ECF6",
            "gridcolor": "white",
            "gridwidth": 2,
            "linecolor": "white",
            "showbackground": true,
            "ticks": "",
            "zerolinecolor": "white"
           },
           "zaxis": {
            "backgroundcolor": "#E5ECF6",
            "gridcolor": "white",
            "gridwidth": 2,
            "linecolor": "white",
            "showbackground": true,
            "ticks": "",
            "zerolinecolor": "white"
           }
          },
          "shapedefaults": {
           "line": {
            "color": "#2a3f5f"
           }
          },
          "ternary": {
           "aaxis": {
            "gridcolor": "white",
            "linecolor": "white",
            "ticks": ""
           },
           "baxis": {
            "gridcolor": "white",
            "linecolor": "white",
            "ticks": ""
           },
           "bgcolor": "#E5ECF6",
           "caxis": {
            "gridcolor": "white",
            "linecolor": "white",
            "ticks": ""
           }
          },
          "title": {
           "x": 0.05
          },
          "xaxis": {
           "automargin": true,
           "gridcolor": "white",
           "linecolor": "white",
           "ticks": "",
           "title": {
            "standoff": 15
           },
           "zerolinecolor": "white",
           "zerolinewidth": 2
          },
          "yaxis": {
           "automargin": true,
           "gridcolor": "white",
           "linecolor": "white",
           "ticks": "",
           "title": {
            "standoff": 15
           },
           "zerolinecolor": "white",
           "zerolinewidth": 2
          }
         }
        },
        "title": {
         "font": {
          "size": 20
         },
         "text": "2D Visualization of Clinical Trial Abstracts",
         "x": 0.5
        },
        "width": 800,
        "xaxis": {
         "anchor": "y",
         "domain": [
          0,
          1
         ],
         "showticklabels": false,
         "title": {
          "text": ""
         }
        },
        "yaxis": {
         "anchor": "x",
         "domain": [
          0,
          1
         ],
         "showticklabels": false,
         "title": {
          "text": ""
         }
        }
       }
      }
     },
     "metadata": {},
     "output_type": "display_data"
    }
   ],
   "source": [
    "# Create interactive plot with Plotly\n",
    "fig = px.scatter(df, x='t-SNE Dimension 1', y='t-SNE Dimension 2', color='Label', title='2D Visualization of Clinical Trial Abstracts')\n",
    "\n",
    "# Update the layout for better aesthetics and remove axis ticks\n",
    "fig.update_layout(\n",
    "    title_font_size=20,\n",
    "    title_x=0.5,\n",
    "    xaxis_title='',\n",
    "    yaxis_title='',\n",
    "    xaxis=dict(showticklabels=False),\n",
    "    yaxis=dict(showticklabels=False),\n",
    "    font=dict(size=14),\n",
    "    plot_bgcolor='rgba(0,0,0,0)',\n",
    "    paper_bgcolor='rgba(0,0,0,0)',\n",
    "    autosize=True,\n",
    "    width=800,\n",
    "    height=600,\n",
    "    legend=dict(title=\"Category\", orientation=\"h\", yanchor=\"bottom\", y=1.02, xanchor=\"right\", x=1)\n",
    ")\n",
    "\n",
    "# Show the plot\n",
    "fig.show()\n",
    "\n",
    "#pio.write_image(fig, 'tsne_visualization.png', scale=3)"
   ]
  },
  {
   "cell_type": "code",
   "execution_count": null,
   "id": "b1cc1e1f-b7f8-4d50-8d24-f42c8c2d2fdd",
   "metadata": {},
   "outputs": [],
   "source": []
  },
  {
   "cell_type": "code",
   "execution_count": null,
   "id": "af4e7445-4c38-4978-a229-b296b8ed21b6",
   "metadata": {},
   "outputs": [],
   "source": []
  }
 ],
 "metadata": {
  "kernelspec": {
   "display_name": "Python 3 (ipykernel)",
   "language": "python",
   "name": "python3"
  },
  "language_info": {
   "codemirror_mode": {
    "name": "ipython",
    "version": 3
   },
   "file_extension": ".py",
   "mimetype": "text/x-python",
   "name": "python",
   "nbconvert_exporter": "python",
   "pygments_lexer": "ipython3",
   "version": "3.12.3"
  }
 },
 "nbformat": 4,
 "nbformat_minor": 5
}
