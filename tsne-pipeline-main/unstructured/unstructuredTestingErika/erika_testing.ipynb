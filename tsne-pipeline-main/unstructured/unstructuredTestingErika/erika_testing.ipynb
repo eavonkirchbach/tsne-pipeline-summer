{
 "cells": [
  {
   "cell_type": "code",
   "execution_count": 1,
   "metadata": {},
   "outputs": [
    {
     "name": "stdout",
     "output_type": "stream",
     "text": [
      "eastern mediterranean\n",
      "\n",
      "We’re investing to grow in the Eastern Mediterranean, offshore Israel and Egypt. Natural gas production in the region is helping to reduce Israel’s greenhouse gas emissions and improve air quality. In addition to supplying Israel, Chevron-operated Tamar and Leviathan fields are exporting natural gas to neighboring Jordan and Egypt.\n",
      "\n",
      "2.5\n",
      "\n",
      "1st\n",
      "\n",
      "~70%\n",
      "\n",
      "kilograms CO₂e/boe carbon intensity from our Eastern Mediterranean operations in 2022\n",
      "\n",
      "woman offshore platform engineer in Israel was employed by our operations in 2020\n",
      "\n",
      "electricity production in Israel is powered by Tamar and Leviathan fields as of 2022\n",
      "\n",
      "Chevron 2022 Corporate Sustainability Report 1\n"
     ]
    }
   ],
   "source": [
    "from unstructured.partition.auto import partition\n",
    "elements = partition(filename=\"example-docs/chevron-page.pdf\")\n",
    "print(\"\\n\\n\".join([str(el) for el in elements]))"
   ]
  },
  {
   "cell_type": "code",
   "execution_count": 2,
   "metadata": {},
   "outputs": [],
   "source": [
    "import requests\n",
    "r = requests.get('https://api.github.com/events')"
   ]
  },
  {
   "cell_type": "code",
   "execution_count": 23,
   "metadata": {},
   "outputs": [
    {
     "name": "stderr",
     "output_type": "stream",
     "text": [
      "/home/vonkie/.local/lib/python3.10/site-packages/urllib3/connectionpool.py:1103: InsecureRequestWarning: Unverified HTTPS request is being made to host 'lexica.pfizer.com'. Adding certificate verification is strongly advised. See: https://urllib3.readthedocs.io/en/latest/advanced-usage.html#tls-warnings\n",
      "  warnings.warn(\n"
     ]
    },
    {
     "ename": "KeyError",
     "evalue": "0",
     "output_type": "error",
     "traceback": [
      "\u001b[0;31m---------------------------------------------------------------------------\u001b[0m",
      "\u001b[0;31mKeyError\u001b[0m                                  Traceback (most recent call last)",
      "Cell \u001b[0;32mIn[23], line 29\u001b[0m\n\u001b[1;32m     26\u001b[0m         \u001b[38;5;28mprint\u001b[39m(\u001b[38;5;124m'\u001b[39m\u001b[38;5;124mFailed to fetch posts from API.\u001b[39m\u001b[38;5;124m'\u001b[39m)\n\u001b[1;32m     28\u001b[0m \u001b[38;5;28;01mif\u001b[39;00m \u001b[38;5;18m__name__\u001b[39m \u001b[38;5;241m==\u001b[39m \u001b[38;5;124m'\u001b[39m\u001b[38;5;124m__main__\u001b[39m\u001b[38;5;124m'\u001b[39m:\n\u001b[0;32m---> 29\u001b[0m     \u001b[43mmain\u001b[49m\u001b[43m(\u001b[49m\u001b[43m)\u001b[49m\n",
      "Cell \u001b[0;32mIn[23], line 23\u001b[0m, in \u001b[0;36mmain\u001b[0;34m()\u001b[0m\n\u001b[1;32m     20\u001b[0m posts \u001b[38;5;241m=\u001b[39m get_posts()\n\u001b[1;32m     22\u001b[0m \u001b[38;5;28;01mif\u001b[39;00m posts:\n\u001b[0;32m---> 23\u001b[0m     \u001b[38;5;28mprint\u001b[39m(\u001b[38;5;124m'\u001b[39m\u001b[38;5;124mFirst Post Title:\u001b[39m\u001b[38;5;124m'\u001b[39m, \u001b[43mposts\u001b[49m\u001b[43m[\u001b[49m\u001b[38;5;241;43m0\u001b[39;49m\u001b[43m]\u001b[49m) \u001b[38;5;66;03m##['preferredName'])\u001b[39;00m\n\u001b[1;32m     24\u001b[0m     \u001b[38;5;66;03m##print('First Post Body:', posts[0]['body'])\u001b[39;00m\n\u001b[1;32m     25\u001b[0m \u001b[38;5;28;01melse\u001b[39;00m:\n\u001b[1;32m     26\u001b[0m     \u001b[38;5;28mprint\u001b[39m(\u001b[38;5;124m'\u001b[39m\u001b[38;5;124mFailed to fetch posts from API.\u001b[39m\u001b[38;5;124m'\u001b[39m)\n",
      "\u001b[0;31mKeyError\u001b[0m: 0"
     ]
    }
   ],
   "source": [
    "import requests\n",
    "\n",
    "def get_posts():\n",
    "    url = 'https://lexica.pfizer.com/metamap/\"hi erika'\n",
    "\n",
    "    try:\n",
    "        response = requests.get(url, verify=False)\n",
    "\n",
    "        if response.status_code == 200:\n",
    "            posts = response.json()\n",
    "            return posts\n",
    "        else:\n",
    "            print('Error:', response.status_code)\n",
    "            return None\n",
    "    except requests.exceptions.RequestException as e:\n",
    "        print('Error:', e)\n",
    "        return None\n",
    "\n",
    "def main():\n",
    "    posts = get_posts()\n",
    "\n",
    "    if posts:\n",
    "        print('First Post Title:', posts[0]) ##['preferredName'])\n",
    "        ##print('First Post Body:', posts[0]['body'])\n",
    "    else:\n",
    "        print('Failed to fetch posts from API.')\n",
    "\n",
    "if __name__ == '__main__':\n",
    "    main()\n"
   ]
  },
  {
   "cell_type": "code",
   "execution_count": 46,
   "metadata": {},
   "outputs": [
    {
     "name": "stdout",
     "output_type": "stream",
     "text": [
      "{'inputText': '\"hierika\"', 'negationList': [], 'utteranceList': [{'mmoposition': 4, 'position': {'x': 0, 'y': 9}, 'string': '\"hierika\"', 'pcmlist': [{'candidatesInstance': {'totalCandidatesCount': 0, 'excludedCandidateCount': 0, 'prunedCandidateCount': 0, 'remainingCandidates': 0, 'evList': []}, 'phrase': {'mincoManAsString': '[punc([inputmatch([\"]),tokens([])]),head([inputmatch([hierika]),tag(noun),tokens([hierika])]),punc([inputmatch([\"]),tokens([])])]', 'phraseText': '\"hierika\"', 'position': {'x': 0, 'y': 9}}, 'candidateList': [], 'mappingList': []}], 'id': '00000000.tx.1'}], 'acronymsAbbrevsList': []}\n"
     ]
    },
    {
     "name": "stderr",
     "output_type": "stream",
     "text": [
      "/home/vonkie/.local/lib/python3.10/site-packages/urllib3/connectionpool.py:1103: InsecureRequestWarning: Unverified HTTPS request is being made to host 'lexica.pfizer.com'. Adding certificate verification is strongly advised. See: https://urllib3.readthedocs.io/en/latest/advanced-usage.html#tls-warnings\n",
      "  warnings.warn(\n"
     ]
    },
    {
     "ename": "KeyError",
     "evalue": "0",
     "output_type": "error",
     "traceback": [
      "\u001b[0;31m---------------------------------------------------------------------------\u001b[0m",
      "\u001b[0;31mKeyError\u001b[0m                                  Traceback (most recent call last)",
      "Cell \u001b[0;32mIn[46], line 27\u001b[0m\n\u001b[1;32m     24\u001b[0m         \u001b[38;5;28mprint\u001b[39m(\u001b[38;5;124m'\u001b[39m\u001b[38;5;124mFailed to fetch posts from API.\u001b[39m\u001b[38;5;124m'\u001b[39m)\n\u001b[1;32m     26\u001b[0m \u001b[38;5;28;01mif\u001b[39;00m \u001b[38;5;18m__name__\u001b[39m \u001b[38;5;241m==\u001b[39m \u001b[38;5;124m'\u001b[39m\u001b[38;5;124m__main__\u001b[39m\u001b[38;5;124m'\u001b[39m:\n\u001b[0;32m---> 27\u001b[0m     \u001b[43mmain\u001b[49m\u001b[43m(\u001b[49m\u001b[43m)\u001b[49m\n",
      "Cell \u001b[0;32mIn[46], line 22\u001b[0m, in \u001b[0;36mmain\u001b[0;34m()\u001b[0m\n\u001b[1;32m     20\u001b[0m \u001b[38;5;28;01mif\u001b[39;00m posts:\n\u001b[1;32m     21\u001b[0m     \u001b[38;5;28mprint\u001b[39m(posts)\n\u001b[0;32m---> 22\u001b[0m     \u001b[38;5;28mprint\u001b[39m(\u001b[38;5;124m'\u001b[39m\u001b[38;5;124mFirst Post Title:\u001b[39m\u001b[38;5;124m'\u001b[39m, \u001b[43mposts\u001b[49m\u001b[43m[\u001b[49m\u001b[38;5;241;43m0\u001b[39;49m\u001b[43m]\u001b[49m)\n\u001b[1;32m     23\u001b[0m \u001b[38;5;28;01melse\u001b[39;00m:\n\u001b[1;32m     24\u001b[0m     \u001b[38;5;28mprint\u001b[39m(\u001b[38;5;124m'\u001b[39m\u001b[38;5;124mFailed to fetch posts from API.\u001b[39m\u001b[38;5;124m'\u001b[39m)\n",
      "\u001b[0;31mKeyError\u001b[0m: 0"
     ]
    }
   ],
   "source": [
    "import requests\n",
    "\n",
    "def get_posts():\n",
    "    url = \"https://lexica.pfizer.com/metamap/%22hierika%22\"\n",
    "\n",
    "    response = requests.get(url, verify=False)\n",
    "    response.json()\n",
    "\n",
    "    if response.status_code == 200:\n",
    "        posts = response.json()\n",
    "        return posts\n",
    "    else:\n",
    "        print('Error:', response.status_code)\n",
    "        return None\n",
    "\n",
    "\n",
    "def main():\n",
    "    posts = get_posts()\n",
    "\n",
    "    if posts:\n",
    "        print(posts)\n",
    "        print('First Post Title:', posts[0])\n",
    "    else:\n",
    "        print('Failed to fetch posts from API.')\n",
    "\n",
    "if __name__ == '__main__':\n",
    "    main()"
   ]
  },
  {
   "cell_type": "code",
   "execution_count": 61,
   "metadata": {},
   "outputs": [
    {
     "name": "stdout",
     "output_type": "stream",
     "text": [
      "First Post Title: sunt aut facere repellat provident occaecati excepturi optio reprehenderit\n",
      "First Post Body: quia et suscipit\n",
      "suscipit recusandae consequuntur expedita et cum\n",
      "reprehenderit molestiae ut ut quas totam\n",
      "nostrum rerum est autem sunt rem eveniet architecto\n"
     ]
    }
   ],
   "source": [
    "import requests\n",
    "\n",
    "def get_posts():\n",
    "    url = 'https://jsonplaceholder.typicode.com/posts'\n",
    "\n",
    "    try:\n",
    "        response = requests.get(url)\n",
    "\n",
    "        if response.status_code == 200:\n",
    "            posts = response.json()\n",
    "            return posts\n",
    "        else:\n",
    "            print('Error:', response.status_code)\n",
    "            return None\n",
    "    except requests.exceptions.RequestException as e:\n",
    "        print('Error:', e)\n",
    "        return None\n",
    "\n",
    "def main():\n",
    "    posts = get_posts()\n",
    "\n",
    "    if posts:\n",
    "        print('First Post Title:', posts[0]['title'])\n",
    "        print('First Post Body:', posts[0]['body'])\n",
    "    else:\n",
    "        print('Failed to fetch posts from API.')\n",
    "\n",
    "if __name__ == '__main__':\n",
    "    main()\n"
   ]
  }
 ],
 "metadata": {
  "kernelspec": {
   "display_name": "Python 3",
   "language": "python",
   "name": "python3"
  },
  "language_info": {
   "codemirror_mode": {
    "name": "ipython",
    "version": 3
   },
   "file_extension": ".py",
   "mimetype": "text/x-python",
   "name": "python",
   "nbconvert_exporter": "python",
   "pygments_lexer": "ipython3",
   "version": "3.10.12"
  }
 },
 "nbformat": 4,
 "nbformat_minor": 2
}
