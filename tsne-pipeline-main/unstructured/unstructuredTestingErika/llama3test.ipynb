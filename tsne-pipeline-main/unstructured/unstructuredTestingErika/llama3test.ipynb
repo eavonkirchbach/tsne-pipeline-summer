{
 "cells": [
  {
   "cell_type": "code",
   "execution_count": 6,
   "metadata": {},
   "outputs": [
    {
     "data": {
      "text/plain": [
       "[{'entity_group': 'Coreference',\n",
       "  'score': 0.9264476,\n",
       "  'word': '##cillopora',\n",
       "  'start': 25,\n",
       "  'end': 34},\n",
       " {'entity_group': 'Sign_symptom',\n",
       "  'score': 0.67435056,\n",
       "  'word': 'acuta',\n",
       "  'start': 35,\n",
       "  'end': 40},\n",
       " {'entity_group': 'Coreference',\n",
       "  'score': 0.7075102,\n",
       "  'word': 'po',\n",
       "  'start': 287,\n",
       "  'end': 289},\n",
       " {'entity_group': 'Coreference',\n",
       "  'score': 0.76110977,\n",
       "  'word': 'pocillopor',\n",
       "  'start': 320,\n",
       "  'end': 330},\n",
       " {'entity_group': 'Coreference',\n",
       "  'score': 0.83154774,\n",
       "  'word': '##uta',\n",
       "  'start': 334,\n",
       "  'end': 337},\n",
       " {'entity_group': 'Detailed_description',\n",
       "  'score': 0.45371488,\n",
       "  'word': 'dam',\n",
       "  'start': 502,\n",
       "  'end': 505},\n",
       " {'entity_group': 'Coreference',\n",
       "  'score': 0.5385788,\n",
       "  'word': '##ico',\n",
       "  'start': 505,\n",
       "  'end': 508},\n",
       " {'entity_group': 'Detailed_description',\n",
       "  'score': 0.75067466,\n",
       "  'word': '##rn',\n",
       "  'start': 508,\n",
       "  'end': 510},\n",
       " {'entity_group': 'Coreference',\n",
       "  'score': 0.39386842,\n",
       "  'word': '##is',\n",
       "  'start': 510,\n",
       "  'end': 512},\n",
       " {'entity_group': 'Detailed_description',\n",
       "  'score': 0.6307446,\n",
       "  'word': 'five sites',\n",
       "  'start': 670,\n",
       "  'end': 680},\n",
       " {'entity_group': 'Diagnostic_procedure',\n",
       "  'score': 0.99314076,\n",
       "  'word': 'sequence',\n",
       "  'start': 787,\n",
       "  'end': 795},\n",
       " {'entity_group': 'Lab_value',\n",
       "  'score': 0.49544007,\n",
       "  'word': '210',\n",
       "  'start': 797,\n",
       "  'end': 800},\n",
       " {'entity_group': 'Diagnostic_procedure',\n",
       "  'score': 0.9727606,\n",
       "  'word': 'samples',\n",
       "  'start': 807,\n",
       "  'end': 814}]"
      ]
     },
     "execution_count": 6,
     "metadata": {},
     "output_type": "execute_result"
    }
   ],
   "source": [
    "# LLAMA3 BiomedicalNER\n",
    "\n",
    "from transformers import pipeline\n",
    "from transformers import AutoTokenizer, AutoModelForTokenClassification\n",
    "\n",
    "tokenizer = AutoTokenizer.from_pretrained(\"d4data/biomedical-ner-all\")\n",
    "model = AutoModelForTokenClassification.from_pretrained(\"d4data/biomedical-ner-all\")\n",
    "\n",
    "pipe = pipeline(\"ner\", model=model, tokenizer=tokenizer, aggregation_strategy=\"simple\") # pass device=0 if using gpu\n",
    "pipe(\"\"\"Dominance of the coral Pocillopora acuta around Phuket Island in the Andaman Sea, Thailand., abstract: Pocillopora damicornis (Linnaeus, 1758), a species complex, consists of several genetic lineages, some of which likely represent reproductively isolated species, including the species Pocillopora acuta Lamarck, 1816. Pocillopora acuta can exhibit similar morphological characteristics as P. damicornis, thus making it difficult to identify species-level taxonomic units. To determine whether the P. damicornis-like colonies on the reefs in the Andaman Sea (previously often identified as P. damicornis) consist of different species, we sampled individual colonies at five sites along a 50 km coastal stretch at Phuket Island and four island sites towards Krabi Province, Thailand. We sequenced 210 coral samples for the mitochondrial open reading frame and identified six distinct haplotypes, all belonging to P. acuta according to the literature. Recently, P. acuta was observed to efficiently recolonize heat-damaged reefs in Thailand as well as globally, making it a potentially important coral species in future reefs. Specifically in the light of global change, this study underscores the importance of high-resolution molecular species recognition, since taxonomic units are important factors for population genetic studies, and the latter are crucial for management and conservation efforts.\"\"\")\n"
   ]
  },
  {
   "cell_type": "code",
   "execution_count": 5,
   "metadata": {},
   "outputs": [],
   "source": [
    "# LLAMA3 itself\n"
   ]
  }
 ],
 "metadata": {
  "kernelspec": {
   "display_name": "Python 3",
   "language": "python",
   "name": "python3"
  },
  "language_info": {
   "codemirror_mode": {
    "name": "ipython",
    "version": 3
   },
   "file_extension": ".py",
   "mimetype": "text/x-python",
   "name": "python",
   "nbconvert_exporter": "python",
   "pygments_lexer": "ipython3",
   "version": "3.10.12"
  }
 },
 "nbformat": 4,
 "nbformat_minor": 2
}
