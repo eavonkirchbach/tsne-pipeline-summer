{
 "cells": [
  {
   "cell_type": "code",
   "execution_count": 5,
   "metadata": {},
   "outputs": [],
   "source": [
    "from unstructured.partition.auto import partition\n",
    "elements = partition(\"example-docs/chevron-page.pdf\")\n",
    "\n",
    "lst = []\n",
    "\n",
    "for element in elements:\n",
    "\n",
    "        elementData = {\n",
    "            'id': element._element_id,\n",
    "            'category': element.category,\n",
    "            'text': element.text,\n",
    "\n",
    "            \n",
    "            'coordinates': element.metadata.coordinates,\n",
    "            'data_source': element.metadata.data_source,\n",
    "            'filename': element.metadata.filename,\n",
    "            'file_directory': element.metadata.file_directory,\n",
    "            'last_modified': element.metadata.last_modified,\n",
    "            'filetype': element.metadata.filetype,\n",
    "            'attached_to_filename': element.metadata.attached_to_filename,\n",
    "            'parent_id': element.metadata.parent_id,\n",
    "            'category_depth': element.metadata.category_depth,\n",
    "            'image_path': element.metadata.image_path,\n",
    "            'languages': element.metadata.languages,\n",
    "            'page_number': element.metadata.page_number,\n",
    "            'page_name': element.metadata.page_name,\n",
    "            'url': element.metadata.url,\n",
    "            'link_urls': element.metadata.link_urls,\n",
    "            'link_texts': element.metadata.link_texts,\n",
    "            'links': element.metadata.links,\n",
    "            'sent_from': element.metadata.sent_from,\n",
    "            'sent_to': element.metadata.sent_to,\n",
    "            'subject': element.metadata.subject,\n",
    "            'header_footer_type': element.metadata.header_footer_type,\n",
    "            'emphasized_text_contents': element.metadata.emphasized_text_contents,\n",
    "            'emphasized_text_tags': element.metadata.emphasized_text_tags,\n",
    "            'text_as_html': element.metadata.text_as_html,\n",
    "            'regex_metadata': element.metadata.regex_metadata,\n",
    "            'is_continuation': element.metadata.is_continuation,\n",
    "            'detection_class_prob': element.metadata.detection_class_prob\n",
    "            \n",
    "        }\n",
    "\n",
    "        lst.append(elementData)\n"
   ]
  },
  {
   "cell_type": "code",
   "execution_count": 3,
   "metadata": {},
   "outputs": [],
   "source": [
    "import pandas as pd\n",
    "\n",
    "df = pd.DataFrame(lst)"
   ]
  },
  {
   "cell_type": "code",
   "execution_count": 4,
   "metadata": {},
   "outputs": [
    {
     "data": {
      "text/html": [
       "\n",
       "        <iframe\n",
       "            width=\"100%\"\n",
       "            height=\"475\"\n",
       "            src=\"http://localhost:40000/dtale/iframe/1\"\n",
       "            frameborder=\"0\"\n",
       "            allowfullscreen\n",
       "            \n",
       "        ></iframe>\n",
       "        "
      ],
      "text/plain": [
       "<IPython.lib.display.IFrame at 0x7fadb94057b0>"
      ]
     },
     "metadata": {},
     "output_type": "display_data"
    },
    {
     "data": {
      "text/plain": []
     },
     "execution_count": 4,
     "metadata": {},
     "output_type": "execute_result"
    },
    {
     "name": "stderr",
     "output_type": "stream",
     "text": [
      "2024-06-17 15:35:47,532 - INFO     - Executing shutdown due to inactivity...\n",
      "2024-06-17 15:35:47,643 - INFO     - Executing shutdown...\n",
      "2024-06-17 15:35:47,644 - INFO     - Not running with the Werkzeug Server, exiting by searching gc for BaseWSGIServer\n"
     ]
    }
   ],
   "source": [
    "import dtale\n",
    "dtale.show(df, host='localhost')"
   ]
  }
 ],
 "metadata": {
  "kernelspec": {
   "display_name": "Python 3",
   "language": "python",
   "name": "python3"
  },
  "language_info": {
   "codemirror_mode": {
    "name": "ipython",
    "version": 3
   },
   "file_extension": ".py",
   "mimetype": "text/x-python",
   "name": "python",
   "nbconvert_exporter": "python",
   "pygments_lexer": "ipython3",
   "version": "3.10.12"
  }
 },
 "nbformat": 4,
 "nbformat_minor": 2
}
